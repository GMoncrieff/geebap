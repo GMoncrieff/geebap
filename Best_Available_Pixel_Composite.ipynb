{
 "cells": [
  {
   "cell_type": "markdown",
   "metadata": {},
   "source": [
    "# BEST AVAILABLE PIXEL COMPOSITE (BAP) *in Google Earth Engine Python API*\n",
    "based on *Pixel-Based Image Compositing for Large-Area Dense\n",
    "Time Series Applications and Science (White, 2014)*\n",
    "https://goo.gl/Fi8fCY"
   ]
  },
  {
   "cell_type": "markdown",
   "metadata": {},
   "source": [
    "## Install Packages\n",
    "If running the code in a docker instance or google's colaboratory"
   ]
  },
  {
   "cell_type": "code",
   "execution_count": 1,
   "metadata": {
    "collapsed": true
   },
   "outputs": [],
   "source": [
    "# import sys\n",
    "# !{sys.executable} -m pip install geebap\n",
    "# to upgrade the package run\n",
    "# !{sys.executable} -m pip install --upgrade geebap"
   ]
  },
  {
   "cell_type": "markdown",
   "metadata": {},
   "source": [
    "## Make imports"
   ]
  },
  {
   "cell_type": "code",
   "execution_count": 2,
   "metadata": {
    "codeCollapsed": false,
    "collapsed": false,
    "hiddenCell": false
   },
   "outputs": [
    {
     "name": "stdout",
     "output_type": "stream",
     "text": [
      "version 0.1.8dev\n"
     ]
    }
   ],
   "source": [
    "# Import Earth Engine and initialize\n",
    "import ee\n",
    "ee.Initialize()\n",
    "\n",
    "# Import packages\n",
    "import geebap\n",
    "from geebap import bap, season, filters, masks, \\\n",
    "                   scores, satcol, functions\n",
    "from geetools import tools, ui\n",
    "import pprint\n",
    "\n",
    "print('version', geebap.__version__)"
   ]
  },
  {
   "cell_type": "markdown",
   "metadata": {},
   "source": [
    "## Season\n",
    "This object holds information of the growing season (start, end and doy *best day of year*). You can make your own, or use 2 pre-made: `Growing_South` and `Growing_North`. This object does not hold any year, just day and month. For example, the pre-made `Growing_South` starts on November 15 (11-15) and ends on March 15 (03-15). But it has a method to add a year, see the example in the code:"
   ]
  },
  {
   "cell_type": "code",
   "execution_count": 3,
   "metadata": {
    "collapsed": false
   },
   "outputs": [
    {
     "name": "stdout",
     "output_type": "stream",
     "text": [
      "1999-11-15 2000-03-15\n"
     ]
    }
   ],
   "source": [
    "a_season = season.Season.Growing_South()\n",
    "ini, end = a_season.add_year(2000)\n",
    "\n",
    "print(ini, end)"
   ]
  },
  {
   "cell_type": "markdown",
   "metadata": {},
   "source": [
    "Note that when the season covers two years, start date is in the previous year."
   ]
  },
  {
   "cell_type": "markdown",
   "metadata": {},
   "source": [
    "## Collections\n",
    "The main method to create a BAP uses a `ColGroup` object, that is basically a group of `Collection` objects. You can see all groups:"
   ]
  },
  {
   "cell_type": "code",
   "execution_count": 4,
   "metadata": {
    "collapsed": false
   },
   "outputs": [
    {
     "name": "stdout",
     "output_type": "stream",
     "text": [
      "{'All': ['LANDSAT/LM1_L1T',\n",
      "         'LANDSAT/LM2_L1T',\n",
      "         'LANDSAT/LM3_L1T',\n",
      "         'LANDSAT/LT04/C01/T1_TOA',\n",
      "         'LANDSAT/LT04/C01/T1_SR',\n",
      "         'LANDSAT/LT05/C01/T1_TOA',\n",
      "         'LANDSAT/LT05/C01/T1_SR',\n",
      "         'LANDSAT/LE07/C01/T1_TOA',\n",
      "         'LANDSAT/LE07/C01/T1_SR',\n",
      "         'LANDSAT/LC08/C01/T1_TOA',\n",
      "         'LANDSAT/LC08/C01/T1_SR',\n",
      "         'COPERNICUS/S2',\n",
      "         'MODIS/006/MYD09GA',\n",
      "         'MODIS/006/MOD09GA'],\n",
      " 'Landsat': ['LANDSAT/LM1_L1T',\n",
      "             'LANDSAT/LM2_L1T',\n",
      "             'LANDSAT/LM3_L1T',\n",
      "             'LANDSAT/LT04/C01/T1_TOA',\n",
      "             'LANDSAT/LT04/C01/T1_SR',\n",
      "             'LANDSAT/LT05/C01/T1_TOA',\n",
      "             'LANDSAT/LT05/C01/T1_SR',\n",
      "             'LANDSAT/LE07/C01/T1_TOA',\n",
      "             'LANDSAT/LE07/C01/T1_SR',\n",
      "             'LANDSAT/LC08/C01/T1_TOA',\n",
      "             'LANDSAT/LC08/C01/T1_SR'],\n",
      " 'Landsat_Sentinel': ['LANDSAT/LM1_L1T',\n",
      "                      'LANDSAT/LM2_L1T',\n",
      "                      'LANDSAT/LM3_L1T',\n",
      "                      'LANDSAT/LT04/C01/T1_TOA',\n",
      "                      'LANDSAT/LT04/C01/T1_SR',\n",
      "                      'LANDSAT/LT05/C01/T1_TOA',\n",
      "                      'LANDSAT/LT05/C01/T1_SR',\n",
      "                      'LANDSAT/LE07/C01/T1_TOA',\n",
      "                      'LANDSAT/LE07/C01/T1_SR',\n",
      "                      'LANDSAT/LC08/C01/T1_TOA',\n",
      "                      'LANDSAT/LC08/C01/T1_SR',\n",
      "                      'COPERNICUS/S2'],\n",
      " 'MSS': ['LANDSAT/LM1_L1T', 'LANDSAT/LM2_L1T', 'LANDSAT/LM3_L1T'],\n",
      " 'Modis': ['MODIS/006/MYD09GA', 'MODIS/006/MOD09GA'],\n",
      " 'SR': ['LANDSAT/LT04/C01/T1_SR',\n",
      "        'LANDSAT/LT05/C01/T1_SR',\n",
      "        'LANDSAT/LE07/C01/T1_SR',\n",
      "        'LANDSAT/LC08/C01/T1_SR'],\n",
      " 'Sentinel2': ['COPERNICUS/S2'],\n",
      " 'TOA': ['LANDSAT/LT04/C01/T1_TOA',\n",
      "         'LANDSAT/LT05/C01/T1_TOA',\n",
      "         'LANDSAT/LE07/C01/T1_TOA',\n",
      "         'LANDSAT/LC08/C01/T1_TOA']}\n"
     ]
    }
   ],
   "source": [
    "satcol.ColGroup.options()"
   ]
  },
  {
   "cell_type": "markdown",
   "metadata": {},
   "source": [
    "You could also make your own `ColGroup`, but you have to keep in mind that it is composed by `satcol.Collection` objects.\n",
    "As the process is made to combine pixels from all collections, `Collection` object renames the bands of each collection to match across all, resulting in the following names: BLUE, GREEN, RED, NIR, SWIR, SWIR2, ATM_OP. Also, each collection has methods ready to map a vegetation index: `ndvi`, `evi` and `nbr`. "
   ]
  },
  {
   "cell_type": "markdown",
   "metadata": {},
   "source": [
    "## Masks\n",
    "There is *(by now)* one mask you can include in the process: clouds"
   ]
  },
  {
   "cell_type": "code",
   "execution_count": 5,
   "metadata": {
    "collapsed": true
   },
   "outputs": [],
   "source": [
    "cld_mask = masks.Clouds()"
   ]
  },
  {
   "cell_type": "markdown",
   "metadata": {},
   "source": [
    "## Filters\n",
    "There are *(by now)* two filters you can use in the process:\n",
    "\n",
    "**cloud percentage**: `filters.CloudsPercent`\n",
    "\n",
    "**masked pixel percentage**: `filters.MaskPercent`. This filter can be used **only** if maskpercent score is included in the process."
   ]
  },
  {
   "cell_type": "code",
   "execution_count": 6,
   "metadata": {
    "collapsed": true
   },
   "outputs": [],
   "source": [
    "filt_cld = filters.CloudsPercent()\n",
    "filt_mask = filters.MaskPercent()"
   ]
  },
  {
   "cell_type": "markdown",
   "metadata": {},
   "source": [
    "## Scores\n",
    "This is what makes the difference. Every score has its own parameters, but all share two main params:\n",
    "\n",
    "**range_out**: the range of values the score will be, by default it is (0, 1)\n",
    "\n",
    "**sleep**: as the creaton of a BAP composite is a 'concatenated' process, it can make more requests that are allowed, so if you set this parameter, the process will wait those seconds until the next computing."
   ]
  },
  {
   "cell_type": "markdown",
   "metadata": {},
   "source": [
    "## White's scores"
   ]
  },
  {
   "cell_type": "markdown",
   "metadata": {},
   "source": [
    "### DOY (best day of the year)\n",
    "Basically, pixels from images closer to that date will have higher score\n",
    "It takes 2 params:\n",
    "\n",
    "**season**: You can use the same as the one for the process, or not. Each `Season` object has its own *doy*. By default it is `Season.Growing_South`\n",
    "\n",
    "**formula**: distribution ecuation. There are two (by now) options: `Normal` (https://en.wikipedia.org/wiki/Normal_distribution) or `Exponential` (https://en.wikipedia.org/wiki/Exponential_distribution). Default is `Normal`"
   ]
  },
  {
   "cell_type": "code",
   "execution_count": 7,
   "metadata": {
    "collapsed": true
   },
   "outputs": [],
   "source": [
    "doy = scores.Doy()"
   ]
  },
  {
   "cell_type": "markdown",
   "metadata": {},
   "source": [
    "### Satellite\n",
    "It uses a list of available satellite for each year that you can check:"
   ]
  },
  {
   "cell_type": "code",
   "execution_count": 8,
   "metadata": {
    "collapsed": false
   },
   "outputs": [
    {
     "data": {
      "text/plain": [
       "['LANDSAT/LE07/C01/T1_SR',\n",
       " 'LANDSAT/LE07/C01/T1_TOA',\n",
       " 'LANDSAT/LT05/C01/T1_SR',\n",
       " 'LANDSAT/LT05/C01/T1_TOA']"
      ]
     },
     "execution_count": 8,
     "metadata": {},
     "output_type": "execute_result"
    }
   ],
   "source": [
    "# List of satellites for 2000\n",
    "season.SeasonPriority.relation[2000]"
   ]
  },
  {
   "cell_type": "markdown",
   "metadata": {},
   "source": [
    "the score has one main param:\n",
    "\n",
    "**rate**: how much score will decrease for each satellite. For example, for 2000, if rate is 0.05 (default value):\n",
    "\n",
    "* 'LANDSAT/LE07/C01/T1_SR' --> 1\n",
    "* 'LANDSAT/LE7_L1T_TOA_FMASK' --> 0.95\n",
    "* 'LANDSAT/LT05/C01/T1_SR' --> 0.90\n",
    "* 'LANDSAT/LT5_L1T_TOA_FMASK' --> 0.85\n",
    "\n",
    "*NOTE: may be the correct name would be 'ratio', so I may change it in the future*"
   ]
  },
  {
   "cell_type": "code",
   "execution_count": 9,
   "metadata": {
    "collapsed": true
   },
   "outputs": [],
   "source": [
    "sat = scores.Satellite()"
   ]
  },
  {
   "cell_type": "markdown",
   "metadata": {},
   "source": [
    "### Atmospheric Opacity\n",
    "It uses the atmospheric opacity band computed by Surface Reflectance, so only SR collections will have this score. If the process uses a non-SR collection, like TOA, the this score will be zero."
   ]
  },
  {
   "cell_type": "code",
   "execution_count": 10,
   "metadata": {
    "collapsed": true
   },
   "outputs": [],
   "source": [
    "atm_op = scores.AtmosOpacity()"
   ]
  },
  {
   "cell_type": "markdown",
   "metadata": {},
   "source": [
    "## Distance to mask\n",
    "This assigns a score regarding the distance of the pixel to the closest masked pixel. As the only mask is for clouds, it could be considered 'distance to cloud'. It has 3 main params:\n",
    "\n",
    "**unit**: unit to measure distance. Defaults to 'meters'\n",
    "\n",
    "**dmax**: max distance. Pixel further than this distance will have score 1. Defaults to 600\n",
    "\n",
    "**dmin**: min distance. Defaults to 0 (next pixel from the maks will have score 0)."
   ]
  },
  {
   "cell_type": "code",
   "execution_count": 11,
   "metadata": {
    "collapsed": true
   },
   "outputs": [],
   "source": [
    "dist = scores.CloudDist()"
   ]
  },
  {
   "cell_type": "markdown",
   "metadata": {},
   "source": [
    "## Custom Scores *(not White's)*"
   ]
  },
  {
   "cell_type": "markdown",
   "metadata": {},
   "source": [
    "### Outliers\n",
    "It computes an statistics over the whole collection (in the season) and assigns score regarding the *distance* of each pixel value to that statistic. It has 3 main parameters:\n",
    "\n",
    "**bands**: a list of bands to include in the process. The process splits the score in the number of given bands. For example, if 4 bands are given, the max score for each band will be 0.25\n",
    "\n",
    "**process**: one of 'mean' or 'median'. Defaults to 'mean'\n",
    "\n",
    "**dist**: distance from 'mean' or 'median'. Defaults to 0.7\n",
    "\n",
    "*NOTE: bands must be in the image, so if you use a vegetation index, be sure to include it in the process*"
   ]
  },
  {
   "cell_type": "code",
   "execution_count": 12,
   "metadata": {
    "collapsed": true
   },
   "outputs": [],
   "source": [
    "out = scores.Outliers((\"ndvi\",))"
   ]
  },
  {
   "cell_type": "markdown",
   "metadata": {},
   "source": [
    "### Mask percentage\n",
    "It computes the precentage of masked pixels in the image (not the whole scene). It has one main parameter:\n",
    "\n",
    "**band**: the band that holds the mask."
   ]
  },
  {
   "cell_type": "code",
   "execution_count": 13,
   "metadata": {
    "collapsed": true
   },
   "outputs": [],
   "source": [
    "maskper = scores.MaskPercent()"
   ]
  },
  {
   "cell_type": "markdown",
   "metadata": {},
   "source": [
    "### Vegetation Index\n",
    "This scores is based on the absolute value of the given index, parametrized to `range_out`. The only parameter is **index**: the name of it (*ndvi*, *evi* or *nbr*). Defaults to *ndvi*."
   ]
  },
  {
   "cell_type": "code",
   "execution_count": 14,
   "metadata": {
    "collapsed": true
   },
   "outputs": [],
   "source": [
    "ind = scores.Index(\"ndvi\")"
   ]
  },
  {
   "cell_type": "markdown",
   "metadata": {},
   "source": [
    "### Multiple years (seasons)\n",
    "If you want to use images from a range of seasons, and not just only one, this scores prioritizes the main season. Take in count that a season may hold 2 years, but the main is the least (see `Season`). It has 3 main params:\n",
    "\n",
    "**main_year**: this is the central year. Images from this year (season) will have score 1\n",
    "\n",
    "**season**: a `Season` object.\n",
    "\n",
    "**ratio**: amount of score that will decrease as it goes further to the main year. Defaults to 0.05. It is similar to *rate* parameter in `Satellite`.\n",
    "\n"
   ]
  },
  {
   "cell_type": "code",
   "execution_count": 15,
   "metadata": {
    "collapsed": true
   },
   "outputs": [],
   "source": [
    "# Will not use it in the test\n",
    "multi = scores.MultiYear(2010, a_season, range_out=(0.8, 1))"
   ]
  },
  {
   "cell_type": "markdown",
   "metadata": {},
   "source": [
    "## Making the composite (BAP)\n",
    "Next step is to create a `Bap` object. It has the following parameters:\n",
    "\n",
    "**year**: The main year. Remember that a season can have 2 years.\n",
    "\n",
    "**range**: for multiyear composites you can specify a 'range' as a tuple: (years before, years after). Defaults to (0, 0).\n",
    "For example, if `range=(1, 1)` and `year=2000`, will compute 1999, 2000 and 2001.\n",
    "\n",
    "**colgroup**: `ColGroup` object. If `None` it will use the list computed by `SeasonPriority`. Defaults to `None`.\n",
    "\n",
    "**season**: a `Season` object\n",
    "\n",
    "**scores**: a list of `Score` objects\n",
    "\n",
    "**masks**: a list of `Mask` objects\n",
    "\n",
    "**filters**: a list of `Filter` objects\n",
    "\n",
    "**fmap**: custom function to apply before computing scores. At this point bands have new names (NIR, SWIR, etc) and vegetation index is computed."
   ]
  },
  {
   "cell_type": "code",
   "execution_count": 16,
   "metadata": {
    "collapsed": false
   },
   "outputs": [],
   "source": [
    "bap_obj = bap.Bap(year=2010, range=(1, 1),\n",
    "              season=a_season,\n",
    "              masks=(cld_mask,),\n",
    "              scores=(\n",
    "                  #doy, \n",
    "                  #sat, \n",
    "                  # atm_op, \n",
    "                  # dist, \n",
    "                  #out, \n",
    "                  #maskper, \n",
    "                  #ind,\n",
    "                  multi,\n",
    "              ),\n",
    "              filters=(\n",
    "                  filt_cld, \n",
    "                  # filt_mask\n",
    "              )\n",
    "                  \n",
    "          )"
   ]
  },
  {
   "cell_type": "markdown",
   "metadata": {},
   "source": [
    "## Define a site"
   ]
  },
  {
   "cell_type": "code",
   "execution_count": 17,
   "metadata": {
    "collapsed": true
   },
   "outputs": [],
   "source": [
    "site = ee.Geometry.Polygon([[-71,-42],\n",
    "                            [-71,-43],\n",
    "                            [-72,-43],\n",
    "                            [-72,-42]])"
   ]
  },
  {
   "cell_type": "markdown",
   "metadata": {},
   "source": [
    "## Finally, compute the composite\n",
    "`Bap` object has a method named `bestpixel` that creates one image out of the pixels with higher score in the collection (which includes all collections given). It has the following parameters:\n",
    "\n",
    "**site**: The site where the composite will be computed\n",
    "\n",
    "**indices**: a list of vegetation indices. Defaults to `None`\n",
    "\n",
    "**name**: name for the band that holds the final score. Defaults to *score*\n",
    "\n",
    "**bands**: a list of bands that will be on the image (in case you don't need all). Defaults to `None` which means *include all bands*\n",
    "\n",
    "**normalize**: normalize the final score to be between 0 and 1. Defaults to `True`\n",
    "\n",
    "**bbox**: distance of the buffer around the site. Defaults to 0.\n",
    "\n",
    "**force**: if there are no images for the specified parameters, and this is set to `True`, an empty image will be created. Defaults to `True`\n",
    "\n",
    "This method return a `namedtuple`, so `.image` will be the composite and `.col` will be the collection"
   ]
  },
  {
   "cell_type": "code",
   "execution_count": 20,
   "metadata": {},
   "outputs": [],
   "source": [
    "bap_obj.debug = False"
   ]
  },
  {
   "cell_type": "code",
   "execution_count": 21,
   "metadata": {
    "collapsed": false
   },
   "outputs": [
    {
     "name": "stdout",
     "output_type": "stream",
     "text": [
      "Waiting times:\n",
      "score-multi 0\n",
      "\n",
      "['LANDSAT/LE07/C01/T1_TOA', 'LANDSAT/LE07/C01/T1_SR', 'LANDSAT/LT05/C01/T1_TOA', 'LANDSAT/LT05/C01/T1_SR']\n",
      "ImageCollection: LANDSAT/LE07/C01/T1_TOA\n",
      "year: 2009\n",
      "year: 2010\n",
      "year: 2011\n",
      "ImageCollection: LANDSAT/LE07/C01/T1_SR\n",
      "year: 2009\n",
      "year: 2010\n",
      "year: 2011\n",
      "ImageCollection: LANDSAT/LT05/C01/T1_TOA\n",
      "year: 2009\n",
      "year: 2010\n",
      "year: 2011\n",
      "ImageCollection: LANDSAT/LT05/C01/T1_SR\n",
      "year: 2009\n",
      "year: 2010\n",
      "year: 2011\n"
     ]
    }
   ],
   "source": [
    "composite = bap_obj.fast_composite(site=site, indices=(\"ndvi\",))"
   ]
  },
  {
   "cell_type": "markdown",
   "metadata": {},
   "source": [
    "### Get the composite from the results"
   ]
  },
  {
   "cell_type": "code",
   "execution_count": 22,
   "metadata": {
    "collapsed": true
   },
   "outputs": [],
   "source": [
    "image = composite.image"
   ]
  },
  {
   "cell_type": "markdown",
   "metadata": {},
   "source": [
    "## Watch the resulting composite\n",
    "*it may take a while..*"
   ]
  },
  {
   "cell_type": "code",
   "execution_count": 23,
   "metadata": {
    "collapsed": false
   },
   "outputs": [],
   "source": [
    "Map = ui.Map()"
   ]
  },
  {
   "cell_type": "code",
   "execution_count": 24,
   "metadata": {},
   "outputs": [
    {
     "data": {
      "application/vnd.jupyter.widget-view+json": {
       "model_id": "4aca3a3bc2c24e75a3cd00c41d09a9d9",
       "version_major": 2,
       "version_minor": 0
      },
      "text/plain": [
       "Map(basemap={'attribution': 'Map data (c) <a href=\"https://openstreetmap.org\">OpenStreetMap</a> contributors',…"
      ]
     },
     "metadata": {},
     "output_type": "display_data"
    },
    {
     "data": {
      "application/vnd.jupyter.widget-view+json": {
       "model_id": "a54d615580f9404183a95f2a80bc23c9",
       "version_major": 2,
       "version_minor": 0
      },
      "text/plain": [
       "Tab(children=(CustomInspector(children=(SelectMultiple(options=OrderedDict(), value=()), Accordion(selected_in…"
      ]
     },
     "metadata": {},
     "output_type": "display_data"
    }
   ],
   "source": [
    "Map.show()"
   ]
  },
  {
   "cell_type": "code",
   "execution_count": 25,
   "metadata": {},
   "outputs": [],
   "source": [
    "vis = dict(bands=['NIR', 'SWIR', 'RED'], min=0, max=0.5)"
   ]
  },
  {
   "cell_type": "code",
   "execution_count": 26,
   "metadata": {},
   "outputs": [],
   "source": [
    "Map.addLayer(image, vis, 'BAP composite')"
   ]
  },
  {
   "cell_type": "code",
   "execution_count": 47,
   "metadata": {},
   "outputs": [],
   "source": [
    "Map.addLayer(composite.collection.first(), vis, 'First')"
   ]
  },
  {
   "cell_type": "code",
   "execution_count": 27,
   "metadata": {},
   "outputs": [],
   "source": [
    "Map.centerObject(site)"
   ]
  },
  {
   "cell_type": "code",
   "execution_count": 25,
   "metadata": {},
   "outputs": [],
   "source": [
    "geebap.ipytools.info2map(Map)"
   ]
  },
  {
   "cell_type": "code",
   "execution_count": 26,
   "metadata": {},
   "outputs": [],
   "source": [
    "Map.addLayer(image.select('score-multi'), dict(min=0, max=1), 'score multiyear')"
   ]
  },
  {
   "cell_type": "code",
   "execution_count": 27,
   "metadata": {},
   "outputs": [
    {
     "name": "stdout",
     "output_type": "stream",
     "text": [
      "224\n",
      "\n"
     ]
    }
   ],
   "source": [
    "ui.eprint(composite.collection.size())"
   ]
  },
  {
   "cell_type": "code",
   "execution_count": 48,
   "metadata": {},
   "outputs": [],
   "source": [
    "chart = ui.chart.Image.series(composite.collection, ee.Geometry.Point([-71.79, -42.75]), properties=['score-multi'], scale=30)"
   ]
  },
  {
   "cell_type": "code",
   "execution_count": 49,
   "metadata": {},
   "outputs": [
    {
     "data": {
      "application/vnd.jupyter.widget-view+json": {
       "model_id": "44821f8d3f734068922d5ef4cbd2d0a5",
       "version_major": 2,
       "version_minor": 0
      },
      "text/plain": [
       "HTML(value='<embed src=data:image/svg+xml;charset=utf-8;base64,PD94bWwgdmVyc2lvbj0nMS4wJyBlbmNvZGluZz0ndXRmLTg…"
      ]
     },
     "metadata": {},
     "output_type": "display_data"
    }
   ],
   "source": [
    "chart.render_widget(width=800)"
   ]
  },
  {
   "cell_type": "code",
   "execution_count": 40,
   "metadata": {},
   "outputs": [],
   "source": [
    "col = composite.collection"
   ]
  },
  {
   "cell_type": "code",
   "execution_count": 42,
   "metadata": {},
   "outputs": [
    {
     "data": {
      "application/vnd.jupyter.widget-view+json": {
       "model_id": "b2c29c0a08d74b31b80286135678cacf",
       "version_major": 2,
       "version_minor": 0
      },
      "text/plain": [
       "VBox(children=(VBox(children=(HTML(value='<b>Image id:</b> LANDSAT/LE07/C01/T1_TOA/LE07_231089_20081118 </br>'…"
      ]
     },
     "metadata": {},
     "output_type": "display_data"
    }
   ],
   "source": [
    "ui.eprint(col.first(), notebook=True)"
   ]
  },
  {
   "cell_type": "code",
   "execution_count": 43,
   "metadata": {},
   "outputs": [],
   "source": [
    "test = tools.imagecollection.linear_function_property(col, 'distance_f04f1f69-569d-4508-85a2-09ead2a8c2a6', mean=0, name='test')"
   ]
  },
  {
   "cell_type": "code",
   "execution_count": 45,
   "metadata": {},
   "outputs": [
    {
     "data": {
      "application/vnd.jupyter.widget-view+json": {
       "model_id": "78db0e8c17cf4149a8c5d681516e2044",
       "version_major": 2,
       "version_minor": 0
      },
      "text/plain": [
       "VBox(children=(VBox(children=(HTML(value='<b>Image id:</b> LANDSAT/LE07/C01/T1_TOA/LE07_231089_20081118 </br>'…"
      ]
     },
     "metadata": {},
     "output_type": "display_data"
    }
   ],
   "source": [
    "ui.eprint(test.first(), notebook=True)"
   ]
  },
  {
   "cell_type": "code",
   "execution_count": 44,
   "metadata": {},
   "outputs": [
    {
     "ename": "EEException",
     "evalue": "Collection.iterate: Error in map(ID=21):\nNumber.subtract: Parameter 'left' is required.",
     "output_type": "error",
     "traceback": [
      "\u001b[0;31m---------------------------------------------------------------------------\u001b[0m",
      "\u001b[0;31mEEException\u001b[0m                               Traceback (most recent call last)",
      "\u001b[0;32m<ipython-input-44-0209281b117f>\u001b[0m in \u001b[0;36m<module>\u001b[0;34m()\u001b[0m\n\u001b[0;32m----> 1\u001b[0;31m \u001b[0mchart2\u001b[0m \u001b[0;34m=\u001b[0m \u001b[0mui\u001b[0m\u001b[0;34m.\u001b[0m\u001b[0mchart\u001b[0m\u001b[0;34m.\u001b[0m\u001b[0mImage\u001b[0m\u001b[0;34m.\u001b[0m\u001b[0mseries\u001b[0m\u001b[0;34m(\u001b[0m\u001b[0mtest\u001b[0m\u001b[0;34m,\u001b[0m \u001b[0mee\u001b[0m\u001b[0;34m.\u001b[0m\u001b[0mGeometry\u001b[0m\u001b[0;34m.\u001b[0m\u001b[0mPoint\u001b[0m\u001b[0;34m(\u001b[0m\u001b[0;34m[\u001b[0m\u001b[0;34m-\u001b[0m\u001b[0;36m71.79\u001b[0m\u001b[0;34m,\u001b[0m \u001b[0;34m-\u001b[0m\u001b[0;36m42.75\u001b[0m\u001b[0;34m]\u001b[0m\u001b[0;34m)\u001b[0m\u001b[0;34m,\u001b[0m \u001b[0mproperties\u001b[0m\u001b[0;34m=\u001b[0m\u001b[0;34m[\u001b[0m\u001b[0;34m'test'\u001b[0m\u001b[0;34m]\u001b[0m\u001b[0;34m,\u001b[0m \u001b[0mscale\u001b[0m\u001b[0;34m=\u001b[0m\u001b[0;36m30\u001b[0m\u001b[0;34m)\u001b[0m\u001b[0;34m\u001b[0m\u001b[0m\n\u001b[0m",
      "\u001b[0;32m~/Python/gee_tools/geetools/ui/chart.py\u001b[0m in \u001b[0;36mseries\u001b[0;34m(imageCollection, region, reducer, scale, xProperty, bands, label_bands, properties, label_properties)\u001b[0m\n\u001b[1;32m    300\u001b[0m             \u001b[0mscale\u001b[0m\u001b[0;34m=\u001b[0m\u001b[0mscale\u001b[0m\u001b[0;34m,\u001b[0m\u001b[0;34m\u001b[0m\u001b[0m\n\u001b[1;32m    301\u001b[0m             \u001b[0mproperties\u001b[0m\u001b[0;34m=\u001b[0m\u001b[0mx_properties\u001b[0m\u001b[0;34m,\u001b[0m\u001b[0;34m\u001b[0m\u001b[0m\n\u001b[0;32m--> 302\u001b[0;31m             side='client')\n\u001b[0m\u001b[1;32m    303\u001b[0m \u001b[0;34m\u001b[0m\u001b[0m\n\u001b[1;32m    304\u001b[0m         \u001b[0;32mif\u001b[0m \u001b[0mlabel_bands\u001b[0m \u001b[0;32mand\u001b[0m \u001b[0mlabel_properties\u001b[0m\u001b[0;34m:\u001b[0m\u001b[0;34m\u001b[0m\u001b[0m\n",
      "\u001b[0;32m~/Python/gee_tools/geetools/tools/imagecollection.py\u001b[0m in \u001b[0;36mget_values\u001b[0;34m(collection, geometry, scale, reducer, id, properties, side, maxPixels)\u001b[0m\n\u001b[1;32m    246\u001b[0m         \u001b[0;32mreturn\u001b[0m \u001b[0mresult\u001b[0m\u001b[0;34m\u001b[0m\u001b[0m\n\u001b[1;32m    247\u001b[0m     \u001b[0;32melif\u001b[0m \u001b[0mside\u001b[0m \u001b[0;34m==\u001b[0m \u001b[0;34m'client'\u001b[0m\u001b[0;34m:\u001b[0m\u001b[0;34m\u001b[0m\u001b[0m\n\u001b[0;32m--> 248\u001b[0;31m         \u001b[0;32mreturn\u001b[0m \u001b[0mresult\u001b[0m\u001b[0;34m.\u001b[0m\u001b[0mgetInfo\u001b[0m\u001b[0;34m(\u001b[0m\u001b[0;34m)\u001b[0m\u001b[0;34m\u001b[0m\u001b[0m\n\u001b[0m\u001b[1;32m    249\u001b[0m     \u001b[0;32melse\u001b[0m\u001b[0;34m:\u001b[0m\u001b[0;34m\u001b[0m\u001b[0m\n\u001b[1;32m    250\u001b[0m         \u001b[0;32mraise\u001b[0m \u001b[0mValueError\u001b[0m\u001b[0;34m(\u001b[0m\u001b[0;34m\"side parameter must be 'server' or 'client'\"\u001b[0m\u001b[0;34m)\u001b[0m\u001b[0;34m\u001b[0m\u001b[0m\n",
      "\u001b[0;32m~/Python/envs/geepy3/lib/python3.5/site-packages/ee/computedobject.py\u001b[0m in \u001b[0;36mgetInfo\u001b[0;34m(self)\u001b[0m\n\u001b[1;32m     93\u001b[0m       \u001b[0mThe\u001b[0m \u001b[0mobject\u001b[0m \u001b[0mcan\u001b[0m \u001b[0mevaluate\u001b[0m \u001b[0mto\u001b[0m \u001b[0manything\u001b[0m\u001b[0;34m.\u001b[0m\u001b[0;34m\u001b[0m\u001b[0m\n\u001b[1;32m     94\u001b[0m     \"\"\"\n\u001b[0;32m---> 95\u001b[0;31m     \u001b[0;32mreturn\u001b[0m \u001b[0mdata\u001b[0m\u001b[0;34m.\u001b[0m\u001b[0mcomputeValue\u001b[0m\u001b[0;34m(\u001b[0m\u001b[0mself\u001b[0m\u001b[0;34m)\u001b[0m\u001b[0;34m\u001b[0m\u001b[0m\n\u001b[0m\u001b[1;32m     96\u001b[0m \u001b[0;34m\u001b[0m\u001b[0m\n\u001b[1;32m     97\u001b[0m   \u001b[0;32mdef\u001b[0m \u001b[0mencode\u001b[0m\u001b[0;34m(\u001b[0m\u001b[0mself\u001b[0m\u001b[0;34m,\u001b[0m \u001b[0mencoder\u001b[0m\u001b[0;34m)\u001b[0m\u001b[0;34m:\u001b[0m\u001b[0;34m\u001b[0m\u001b[0m\n",
      "\u001b[0;32m~/Python/envs/geepy3/lib/python3.5/site-packages/ee/data.py\u001b[0m in \u001b[0;36mcomputeValue\u001b[0;34m(obj)\u001b[0m\n\u001b[1;32m    475\u001b[0m     \u001b[0mThe\u001b[0m \u001b[0mresult\u001b[0m \u001b[0mof\u001b[0m \u001b[0mevaluating\u001b[0m \u001b[0mthat\u001b[0m \u001b[0mobject\u001b[0m \u001b[0mon\u001b[0m \u001b[0mthe\u001b[0m \u001b[0mserver\u001b[0m\u001b[0;34m.\u001b[0m\u001b[0;34m\u001b[0m\u001b[0m\n\u001b[1;32m    476\u001b[0m   \"\"\"\n\u001b[0;32m--> 477\u001b[0;31m   \u001b[0;32mreturn\u001b[0m \u001b[0msend_\u001b[0m\u001b[0;34m(\u001b[0m\u001b[0;34m'/value'\u001b[0m\u001b[0;34m,\u001b[0m \u001b[0;34m(\u001b[0m\u001b[0;34m{\u001b[0m\u001b[0;34m'json'\u001b[0m\u001b[0;34m:\u001b[0m \u001b[0mobj\u001b[0m\u001b[0;34m.\u001b[0m\u001b[0mserialize\u001b[0m\u001b[0;34m(\u001b[0m\u001b[0;34m)\u001b[0m\u001b[0;34m,\u001b[0m \u001b[0;34m'json_format'\u001b[0m\u001b[0;34m:\u001b[0m \u001b[0;34m'v2'\u001b[0m\u001b[0;34m}\u001b[0m\u001b[0;34m)\u001b[0m\u001b[0;34m)\u001b[0m\u001b[0;34m\u001b[0m\u001b[0m\n\u001b[0m\u001b[1;32m    478\u001b[0m \u001b[0;34m\u001b[0m\u001b[0m\n\u001b[1;32m    479\u001b[0m \u001b[0;34m\u001b[0m\u001b[0m\n",
      "\u001b[0;32m~/Python/envs/geepy3/lib/python3.5/site-packages/ee/data.py\u001b[0m in \u001b[0;36msend_\u001b[0;34m(path, params, opt_method, opt_raw)\u001b[0m\n\u001b[1;32m   1171\u001b[0m       \u001b[0;32mraise\u001b[0m \u001b[0mee_exception\u001b[0m\u001b[0;34m.\u001b[0m\u001b[0mEEException\u001b[0m\u001b[0;34m(\u001b[0m\u001b[0;34m'Invalid JSON: %s'\u001b[0m \u001b[0;34m%\u001b[0m \u001b[0mcontent\u001b[0m\u001b[0;34m)\u001b[0m\u001b[0;34m\u001b[0m\u001b[0m\n\u001b[1;32m   1172\u001b[0m     \u001b[0;32mif\u001b[0m \u001b[0;34m'error'\u001b[0m \u001b[0;32min\u001b[0m \u001b[0mjson_content\u001b[0m\u001b[0;34m:\u001b[0m\u001b[0;34m\u001b[0m\u001b[0m\n\u001b[0;32m-> 1173\u001b[0;31m       \u001b[0;32mraise\u001b[0m \u001b[0mee_exception\u001b[0m\u001b[0;34m.\u001b[0m\u001b[0mEEException\u001b[0m\u001b[0;34m(\u001b[0m\u001b[0mjson_content\u001b[0m\u001b[0;34m[\u001b[0m\u001b[0;34m'error'\u001b[0m\u001b[0;34m]\u001b[0m\u001b[0;34m[\u001b[0m\u001b[0;34m'message'\u001b[0m\u001b[0;34m]\u001b[0m\u001b[0;34m)\u001b[0m\u001b[0;34m\u001b[0m\u001b[0m\n\u001b[0m\u001b[1;32m   1174\u001b[0m     \u001b[0;32mif\u001b[0m \u001b[0;34m'data'\u001b[0m \u001b[0;32mnot\u001b[0m \u001b[0;32min\u001b[0m \u001b[0mcontent\u001b[0m\u001b[0;34m:\u001b[0m\u001b[0;34m\u001b[0m\u001b[0m\n\u001b[1;32m   1175\u001b[0m       \u001b[0;32mraise\u001b[0m \u001b[0mee_exception\u001b[0m\u001b[0;34m.\u001b[0m\u001b[0mEEException\u001b[0m\u001b[0;34m(\u001b[0m\u001b[0;34m'Malformed response: '\u001b[0m \u001b[0;34m+\u001b[0m \u001b[0mstr\u001b[0m\u001b[0;34m(\u001b[0m\u001b[0mcontent\u001b[0m\u001b[0;34m)\u001b[0m\u001b[0;34m)\u001b[0m\u001b[0;34m\u001b[0m\u001b[0m\n",
      "\u001b[0;31mEEException\u001b[0m: Collection.iterate: Error in map(ID=21):\nNumber.subtract: Parameter 'left' is required."
     ]
    }
   ],
   "source": [
    "chart2 = ui.chart.Image.series(test, ee.Geometry.Point([-71.79, -42.75]), properties=['test'], scale=30)"
   ]
  },
  {
   "cell_type": "code",
   "execution_count": null,
   "metadata": {},
   "outputs": [],
   "source": [
    "chart2.render_widget(width=800)"
   ]
  }
 ],
 "metadata": {
  "kernelspec": {
   "display_name": "geepy3",
   "language": "python",
   "name": "geepy3"
  },
  "language_info": {
   "codemirror_mode": {
    "name": "ipython",
    "version": 3
   },
   "file_extension": ".py",
   "mimetype": "text/x-python",
   "name": "python",
   "nbconvert_exporter": "python",
   "pygments_lexer": "ipython3",
   "version": "3.5.2"
  }
 },
 "nbformat": 4,
 "nbformat_minor": 2
}
