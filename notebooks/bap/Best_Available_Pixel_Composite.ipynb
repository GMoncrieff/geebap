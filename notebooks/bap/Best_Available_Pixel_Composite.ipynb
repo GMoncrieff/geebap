{
 "cells": [
  {
   "cell_type": "markdown",
   "metadata": {},
   "source": [
    "# BEST AVAILABLE PIXEL COMPOSITE (BAP) *in Google Earth Engine Python API*\n",
    "based on *Pixel-Based Image Compositing for Large-Area Dense\n",
    "Time Series Applications and Science (White, 2014)*\n",
    "https://goo.gl/Fi8fCY"
   ]
  },
  {
   "cell_type": "markdown",
   "metadata": {},
   "source": [
    "## The process consist in 2 steps:\n",
    "1. Compute all scores\n",
    "2. Make composite"
   ]
  },
  {
   "cell_type": "markdown",
   "metadata": {},
   "source": [
    "## 1. Compute all scores\n",
    "The first step is to build a `Bap` object using this package:"
   ]
  },
  {
   "cell_type": "markdown",
   "metadata": {},
   "source": [
    "### Make imports"
   ]
  },
  {
   "cell_type": "code",
   "execution_count": 5,
   "metadata": {
    "codeCollapsed": false,
    "hiddenCell": false
   },
   "outputs": [
    {
     "name": "stdout",
     "output_type": "stream",
     "text": [
      "geebap version 0.2.3\n",
      "geetools version 0.4.0\n"
     ]
    }
   ],
   "source": [
    "# Import Earth Engine and initialize\n",
    "import ee\n",
    "ee.Initialize()\n",
    "\n",
    "# Import packages\n",
    "import geebap\n",
    "from geetools import tools,collection, __version__\n",
    "import ipygee as ui\n",
    "import pprint\n",
    "\n",
    "print('geebap version', geebap.__version__)\n",
    "print('geetools version', __version__)"
   ]
  },
  {
   "cell_type": "markdown",
   "metadata": {},
   "source": [
    "### The `Bap` object will be created using some parameters:\n",
    "\n",
    "``` python\n",
    "bap = geebap.Bap(season, range, colgroup, scores, masks, filters, target_collection, brdf, harmonize)\n",
    "```\n",
    "As follows:"
   ]
  },
  {
   "cell_type": "markdown",
   "metadata": {},
   "source": [
    "## Season\n",
    "This object holds information of the growing season (start and end). This object does not hold any year, just day and month. For example, start on November 15 (11-15) and ends on March 15 (03-15)"
   ]
  },
  {
   "cell_type": "code",
   "execution_count": 6,
   "metadata": {},
   "outputs": [],
   "source": [
    "a_season = geebap.Season('11-15', '03-15')"
   ]
  },
  {
   "cell_type": "markdown",
   "metadata": {},
   "source": [
    "You can add the year to it"
   ]
  },
  {
   "cell_type": "code",
   "execution_count": 7,
   "metadata": {},
   "outputs": [],
   "source": [
    "daterange = a_season.add_year(2019)"
   ]
  },
  {
   "cell_type": "code",
   "execution_count": 8,
   "metadata": {},
   "outputs": [
    {
     "data": {
      "application/vnd.jupyter.widget-view+json": {
       "model_id": "c66b2f9ca3bf41cf87d98ba5a0fb5697",
       "version_major": 2,
       "version_minor": 0
      },
      "text/plain": [
       "VBox(children=(Accordion(children=(Button(description='Cancel', style=ButtonStyle()),), _titles={'0': 'Loading…"
      ]
     },
     "metadata": {},
     "output_type": "display_data"
    }
   ],
   "source": [
    "ui.eprint(daterange)"
   ]
  },
  {
   "cell_type": "markdown",
   "metadata": {},
   "source": [
    "Note that when the season covers two years, start date is in the previous year."
   ]
  },
  {
   "cell_type": "markdown",
   "metadata": {},
   "source": [
    "## Range\n",
    "\n",
    "This is a 2 items `tuple` indicating the amount of years that will be used. The first item indicates how many years to go \"backwards\" and the second \"forward\""
   ]
  },
  {
   "cell_type": "code",
   "execution_count": 32,
   "metadata": {},
   "outputs": [],
   "source": [
    "a_range = (0, 0) # One year backwards"
   ]
  },
  {
   "cell_type": "markdown",
   "metadata": {},
   "source": [
    "## Colgroup\n",
    "This comes from `geetools.collection.CollectioGroup` and basically aggregates the collections available in that module."
   ]
  },
  {
   "cell_type": "markdown",
   "metadata": {},
   "source": [
    "You could also make your own `colgroup`, but you have to keep in mind that it is composed by `geetools.Collection` objects."
   ]
  },
  {
   "cell_type": "markdown",
   "metadata": {},
   "source": [
    "If this parameter is `None` the process will use the `priority` module, that holds information in which Landsat satellite was available according to the year parsed."
   ]
  },
  {
   "cell_type": "code",
   "execution_count": 10,
   "metadata": {},
   "outputs": [],
   "source": [
    "# My own colgroup\n",
    "l8toa = collection.Landsat8TOA()\n",
    "l7toa = collection.Landsat7TOA()\n",
    "mycolgroup = collection.CollectionGroup(l8toa, l7toa)"
   ]
  },
  {
   "cell_type": "markdown",
   "metadata": {},
   "source": [
    "## Masks\n",
    "The mask that will be used to get rid of `clouds`, `shadow`, etc"
   ]
  },
  {
   "cell_type": "code",
   "execution_count": 11,
   "metadata": {},
   "outputs": [],
   "source": [
    "cld_mask = geebap.masks.Mask()"
   ]
  },
  {
   "cell_type": "markdown",
   "metadata": {},
   "source": [
    "## Filters\n",
    "There are two filters you can use in the process:\n",
    "\n",
    "**cloud percentage**: `filters.CloudsCover`\n",
    "\n",
    "**masked pixel percentage**: `filters.MaskCover`. This filter can be used **only** if maskpercent score is included in the process."
   ]
  },
  {
   "cell_type": "code",
   "execution_count": 12,
   "metadata": {},
   "outputs": [],
   "source": [
    "filt_cld = geebap.filters.CloudCover() # defaults on 70 %\n",
    "filt_mask = geebap.filters.MaskCover() # defaults on 70 %"
   ]
  },
  {
   "cell_type": "markdown",
   "metadata": {},
   "source": [
    "## Scores\n",
    "This is what makes the difference. Every score has its own parameters, and share the following:\n",
    "\n",
    "- **range_out**: the range of values the score will be, by default it is (0, 1)\n",
    "- **name**: the name of the resulting band\n",
    "\n",
    "Also, all scores have a static method that can be used without the need of a `Bap` object. I'd be the core method of every score. In the scores that need a whole `ee.ImageCollection` to be computed, this method is called `apply` and the ones that can be computed using a single `ee.Image` the method is called `compute`"
   ]
  },
  {
   "cell_type": "markdown",
   "metadata": {},
   "source": [
    "## White's scores"
   ]
  },
  {
   "cell_type": "markdown",
   "metadata": {},
   "source": [
    "### DOY (best day of the year)\n",
    "Basically, pixels from images closer to that date will have higher score\n",
    "It takes 2 params:\n",
    "\n",
    "- **best day of the year**: You have to specify which day you are goint to prioritize\n",
    "- **season**: You can use the same as the one for the process, or not\n",
    "\n",
    "Optional:\n",
    "\n",
    "- **function**: There are two options: `linear` or `gauss`. Defaults to `linear`"
   ]
  },
  {
   "cell_type": "code",
   "execution_count": 13,
   "metadata": {},
   "outputs": [],
   "source": [
    "doy = geebap.scores.Doy('01-15', a_season)"
   ]
  },
  {
   "cell_type": "markdown",
   "metadata": {},
   "source": [
    "### Satellite\n",
    "It uses a list of available satellite for each year that you can check:"
   ]
  },
  {
   "cell_type": "code",
   "execution_count": 14,
   "metadata": {},
   "outputs": [
    {
     "data": {
      "text/plain": [
       "['LANDSAT/LE07/C01/T1_SR',\n",
       " 'LANDSAT/LE07/C01/T1_TOA',\n",
       " 'LANDSAT/LT05/C01/T1_SR',\n",
       " 'LANDSAT/LT05/C01/T1_TOA']"
      ]
     },
     "execution_count": 14,
     "metadata": {},
     "output_type": "execute_result"
    }
   ],
   "source": [
    "# List of satellites for 2000\n",
    "geebap.priority.SeasonPriority.relation[2000]"
   ]
  },
  {
   "cell_type": "markdown",
   "metadata": {},
   "source": [
    "the score has one main param:\n",
    "\n",
    "**ratio**: how much score will decrease for each satellite. For example, for 2000, if rate is 0.05 (default value):\n",
    "\n",
    "* 'LANDSAT/LE07/C01/T1_SR' --> 1\n",
    "* 'LANDSAT/LE07/C01/T1_TOA' --> 0.95\n",
    "* 'LANDSAT/LT05/C01/T1_SR' --> 0.90\n",
    "* 'LANDSAT/LT05/C01/T1_TOA' --> 0.85"
   ]
  },
  {
   "cell_type": "code",
   "execution_count": 15,
   "metadata": {},
   "outputs": [],
   "source": [
    "sat = geebap.scores.Satellite()"
   ]
  },
  {
   "cell_type": "markdown",
   "metadata": {},
   "source": [
    "### Atmospheric Opacity\n",
    "It uses the atmospheric opacity band computed by Surface Reflectance, so only SR collections will have this score. If the process uses a non-SR collection, like TOA, the this score will be zero."
   ]
  },
  {
   "cell_type": "code",
   "execution_count": 16,
   "metadata": {},
   "outputs": [],
   "source": [
    "atm_op = geebap.scores.AtmosOpacity()"
   ]
  },
  {
   "cell_type": "markdown",
   "metadata": {},
   "source": [
    "### Distance to mask\n",
    "This assigns a score regarding the distance of the pixel to the closest masked pixel. As the only mask is for clouds, it could be considered 'distance to cloud'. It has 3 main params:\n",
    "\n",
    "**unit**: unit to measure distance. Defaults to 'meters'\n",
    "\n",
    "**dmax**: max distance. Pixel further than this distance will have score 1. Defaults to 600\n",
    "\n",
    "**dmin**: min distance. Defaults to 0 (next pixel from the maks will have score 0)."
   ]
  },
  {
   "cell_type": "code",
   "execution_count": 17,
   "metadata": {},
   "outputs": [],
   "source": [
    "dist = geebap.scores.CloudDist()"
   ]
  },
  {
   "cell_type": "markdown",
   "metadata": {},
   "source": [
    "## Custom Scores *(not White's)*"
   ]
  },
  {
   "cell_type": "markdown",
   "metadata": {},
   "source": [
    "### Outliers\n",
    "It computes an statistics over the whole collection (in the season) and assigns score regarding the *distance* of each pixel value to that statistic. It has 3 main parameters:\n",
    "\n",
    "**bands**: a list of bands to include in the process. The process splits the score in the number of given bands. For example, if 4 bands are given, the max score for each band will be 0.25\n",
    "\n",
    "**process**: one of 'mean' or 'median'. Defaults to 'median'\n",
    "\n",
    "**dist**: distance from 'mean' or 'median'. Defaults to 0.7\n",
    "\n",
    "*NOTE: bands must be in the image, so if you use a vegetation index, be sure to include it in the process*"
   ]
  },
  {
   "cell_type": "code",
   "execution_count": 18,
   "metadata": {},
   "outputs": [],
   "source": [
    "out = geebap.scores.Outliers((\"ndvi\",))"
   ]
  },
  {
   "cell_type": "markdown",
   "metadata": {},
   "source": [
    "### Mask percentage\n",
    "It computes the precentage of masked pixels in the image (not the whole scene). It has one main parameter:\n",
    "\n",
    "**band**: the band that holds the mask."
   ]
  },
  {
   "cell_type": "code",
   "execution_count": 19,
   "metadata": {},
   "outputs": [],
   "source": [
    "maskper = geebap.scores.MaskPercent()"
   ]
  },
  {
   "cell_type": "markdown",
   "metadata": {},
   "source": [
    "### Mask percentage (Kernel)\n",
    "Similar to `MaskPercent` but uses a kernel for computation. It may help to avoid exceed memory capacity and also may help to build bigger composites"
   ]
  },
  {
   "cell_type": "code",
   "execution_count": 20,
   "metadata": {},
   "outputs": [],
   "source": [
    "maskper_kernel = geebap.scores.MaskPercentKernel()"
   ]
  },
  {
   "cell_type": "markdown",
   "metadata": {},
   "source": [
    "### Vegetation Index\n",
    "This scores is based on the absolute value of the given index, parametrized to `range_out`. The only parameter is **index**: the name of it (*ndvi*, *evi* or *nbr*). Defaults to *ndvi*."
   ]
  },
  {
   "cell_type": "code",
   "execution_count": 21,
   "metadata": {},
   "outputs": [],
   "source": [
    "ind = geebap.scores.Index(\"ndvi\")"
   ]
  },
  {
   "cell_type": "markdown",
   "metadata": {},
   "source": [
    "### Multiple years (seasons)\n",
    "If you want to use images from a range of seasons, and not just only one, this scores prioritizes the main season. Take in count that a season may hold 2 years, but the main is the least (see `Season`). It has 3 main params:\n",
    "\n",
    "**main_year**: this is the central year. Images from this year (season) will have score 1\n",
    "\n",
    "**season**: a `Season` object.\n",
    "\n",
    "**ratio**: amount of score that will decrease as it goes further to the main year. Defaults to 0.05. It is similar to *rate* parameter in `Satellite`.\n",
    "\n"
   ]
  },
  {
   "cell_type": "code",
   "execution_count": 22,
   "metadata": {},
   "outputs": [],
   "source": [
    "# Will not use it in the test\n",
    "multi = geebap.scores.MultiYear(2019, a_season, range_out=(0.8, 1))"
   ]
  },
  {
   "cell_type": "markdown",
   "metadata": {},
   "source": [
    "## Target collection\n",
    "The `target_collection` parameter of the `Bap` object defines the output's band type. It must be an instance of `geetools.Collection` and defaults to `collection.Landsat8SR()`. So, by default, the values for the bands of the output will be parametrized between 0 and 10000, except for the new bands"
   ]
  },
  {
   "cell_type": "markdown",
   "metadata": {},
   "source": [
    "## Making the composite (BAP)\n",
    "Next step is to create a `Bap` object. It has the following parameters:"
   ]
  },
  {
   "cell_type": "code",
   "execution_count": 33,
   "metadata": {},
   "outputs": [],
   "source": [
    "bap_obj = geebap.Bap(\n",
    "    range=a_range,\n",
    "    season=a_season,\n",
    "    masks=(cld_mask,),\n",
    "    scores=(\n",
    "        doy, \n",
    "        sat, \n",
    "        # atm_op, \n",
    "        dist,\n",
    "        out, \n",
    "        # maskper,\n",
    "        maskper_kernel, # use one at a time\n",
    "        ind,\n",
    "        multi,\n",
    "    ),\n",
    "    filters=(\n",
    "        filt_cld, \n",
    "        # filt_mask\n",
    "    ),\n",
    "    brdf=True,\n",
    "    harmonize=True\n",
    ")"
   ]
  },
  {
   "cell_type": "markdown",
   "metadata": {},
   "source": [
    "## Define a site"
   ]
  },
  {
   "cell_type": "code",
   "execution_count": 34,
   "metadata": {},
   "outputs": [],
   "source": [
    "site = ee.Geometry.Polygon([[-71.5,-42.5],\n",
    "                            [-71.5,-43],\n",
    "                            [-72,-43],\n",
    "                            [-72,-42.5]])"
   ]
  },
  {
   "cell_type": "markdown",
   "metadata": {},
   "source": [
    "## Finally, compute the composite\n",
    "`Bap` object has a method named `build_composite_best` that creates one image out of the pixels with higher score in the collection (which includes all collections given). It has the following parameters:\n",
    "\n",
    "- **year**:  The year to process\n",
    "- **site**: The site where the composite will be computed\n",
    "- **indices**: a list of vegetation indices. Defaults to `None`\n",
    "- **name**: name for the band that holds the final score. Defaults to *score*\n",
    "- **buffer**: distance of the buffer around the site. Defaults to 0.\n",
    "- **add_individual_scores**: if this param is `True` the resulting composite will have all individual scores"
   ]
  },
  {
   "cell_type": "code",
   "execution_count": 35,
   "metadata": {},
   "outputs": [],
   "source": [
    "composite = bap_obj.build_composite_best(2019, site, indices=['ndvi'], add_individual_scores=True)"
   ]
  },
  {
   "cell_type": "markdown",
   "metadata": {},
   "source": [
    "## You can also get the complete collection in which all images will have the computed scores"
   ]
  },
  {
   "cell_type": "code",
   "execution_count": 26,
   "metadata": {},
   "outputs": [],
   "source": [
    "bapcol = bap_obj.compute_scores(2019, site, indices=['ndvi'], add_individual_scores=True)"
   ]
  },
  {
   "cell_type": "markdown",
   "metadata": {},
   "source": [
    "## Inspect the results in a Map"
   ]
  },
  {
   "cell_type": "code",
   "execution_count": 27,
   "metadata": {},
   "outputs": [],
   "source": [
    "Map = ui.Map()"
   ]
  },
  {
   "cell_type": "code",
   "execution_count": 28,
   "metadata": {},
   "outputs": [
    {
     "data": {
      "application/vnd.jupyter.widget-view+json": {
       "model_id": "4a6076d12b6245338d8a7361ceff1874",
       "version_major": 2,
       "version_minor": 0
      },
      "text/plain": [
       "Map(basemap={'url': 'https://{s}.tile.openstreetmap.org/{z}/{x}/{y}.png', 'max_zoom': 19, 'attribution': 'Map …"
      ]
     },
     "metadata": {},
     "output_type": "display_data"
    },
    {
     "data": {
      "application/vnd.jupyter.widget-view+json": {
       "model_id": "1e952719a78e43c391efbefefb305246",
       "version_major": 2,
       "version_minor": 0
      },
      "text/plain": [
       "Tab(children=(CustomInspector(children=(SelectMultiple(options=OrderedDict(), value=()), Accordion(selected_in…"
      ]
     },
     "metadata": {},
     "output_type": "display_data"
    }
   ],
   "source": [
    "Map.show()"
   ]
  },
  {
   "cell_type": "code",
   "execution_count": 29,
   "metadata": {},
   "outputs": [],
   "source": [
    "vis = bap_obj.target_collection.visualization('NSR', True)"
   ]
  },
  {
   "cell_type": "code",
   "execution_count": 31,
   "metadata": {},
   "outputs": [],
   "source": [
    "Map.addLayer(site)"
   ]
  },
  {
   "cell_type": "code",
   "execution_count": 36,
   "metadata": {},
   "outputs": [],
   "source": [
    "Map.addLayer(composite, vis, 'BAP composite (0,0)')"
   ]
  },
  {
   "cell_type": "code",
   "execution_count": 23,
   "metadata": {},
   "outputs": [],
   "source": [
    "Map.addLayer(bapcol.select(['nir', 'swir', 'red', '^score.+', 'date', 'col_id']), vis, 'BAP collection')"
   ]
  },
  {
   "cell_type": "code",
   "execution_count": 24,
   "metadata": {},
   "outputs": [],
   "source": [
    "Map.centerObject(composite)"
   ]
  },
  {
   "cell_type": "code",
   "execution_count": 25,
   "metadata": {},
   "outputs": [],
   "source": [
    "Map.addLayer(composite.select('date').randomVisualizer(), dict(min=0, max=255), 'Composite dates')"
   ]
  },
  {
   "cell_type": "code",
   "execution_count": null,
   "metadata": {},
   "outputs": [],
   "source": []
  }
 ],
 "metadata": {
  "kernelspec": {
   "display_name": "Python 3",
   "language": "python",
   "name": "python3"
  },
  "language_info": {
   "codemirror_mode": {
    "name": "ipython",
    "version": 3
   },
   "file_extension": ".py",
   "mimetype": "text/x-python",
   "name": "python",
   "nbconvert_exporter": "python",
   "pygments_lexer": "ipython3",
   "version": "3.7.3"
  }
 },
 "nbformat": 4,
 "nbformat_minor": 2
}
