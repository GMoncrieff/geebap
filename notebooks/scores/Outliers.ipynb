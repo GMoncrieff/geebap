{
 "cells": [
  {
   "cell_type": "code",
   "execution_count": 1,
   "metadata": {},
   "outputs": [],
   "source": [
    "from geebap import scores, satcol"
   ]
  },
  {
   "cell_type": "code",
   "execution_count": 2,
   "metadata": {},
   "outputs": [],
   "source": [
    "import ee"
   ]
  },
  {
   "cell_type": "code",
   "execution_count": 3,
   "metadata": {},
   "outputs": [],
   "source": [
    "from geetools import tools, ui, cloud_mask, algorithms"
   ]
  },
  {
   "cell_type": "code",
   "execution_count": 4,
   "metadata": {},
   "outputs": [],
   "source": [
    "p = ee.Geometry.Point([-71.33972167968751, -42.737619925503054])\n",
    "aoi = p.buffer(8000).bounds()"
   ]
  },
  {
   "cell_type": "code",
   "execution_count": 5,
   "metadata": {},
   "outputs": [],
   "source": [
    "col = satcol.Collection.Landsat8USGS()"
   ]
  },
  {
   "cell_type": "code",
   "execution_count": 6,
   "metadata": {},
   "outputs": [],
   "source": [
    "colEE = col.colEE.filterBounds(aoi).map(col.ndvi)"
   ]
  },
  {
   "cell_type": "code",
   "execution_count": 7,
   "metadata": {},
   "outputs": [],
   "source": [
    "start = '2017-11-15'\n",
    "end = '2018-02-15'"
   ]
  },
  {
   "cell_type": "code",
   "execution_count": 8,
   "metadata": {},
   "outputs": [],
   "source": [
    "colEE = colEE.filterDate(start, end)"
   ]
  },
  {
   "cell_type": "code",
   "execution_count": 9,
   "metadata": {},
   "outputs": [],
   "source": [
    "score = scores.Outliers(['B1', 'B2', 'B7'])"
   ]
  },
  {
   "cell_type": "code",
   "execution_count": 11,
   "metadata": {},
   "outputs": [],
   "source": [
    "ncol3 = score.map(colEE)"
   ]
  },
  {
   "cell_type": "code",
   "execution_count": 13,
   "metadata": {},
   "outputs": [
    {
     "data": {
      "text/plain": [
       "{'LC08_231090_20171119': {'B1': 1975.0,\n",
       "  'B2': 1970.0,\n",
       "  'B7': 1714.0,\n",
       "  'OUTLIER_REDUCER': 'median',\n",
       "  'score-outlier': 0.0},\n",
       " 'LC08_231090_20171205': {'B1': 389.0,\n",
       "  'B2': 484.0,\n",
       "  'B7': 1581.0,\n",
       "  'OUTLIER_REDUCER': 'median',\n",
       "  'score-outlier': 0.0},\n",
       " 'LC08_231090_20180106': {'B1': 4185.0,\n",
       "  'B2': 4205.0,\n",
       "  'B7': 3640.0,\n",
       "  'OUTLIER_REDUCER': 'median',\n",
       "  'score-outlier': 0.0},\n",
       " 'LC08_231090_20180122': {'B1': 360.0,\n",
       "  'B2': 424.0,\n",
       "  'B7': 1511.0,\n",
       "  'OUTLIER_REDUCER': 'median',\n",
       "  'score-outlier': 0.0},\n",
       " 'LC08_231090_20180207': {'B1': 473.0,\n",
       "  'B2': 508.0,\n",
       "  'B7': 1613.0,\n",
       "  'OUTLIER_REDUCER': 'median',\n",
       "  'score-outlier': 0.0},\n",
       " 'LC08_232089_20171126': {'B1': None,\n",
       "  'B2': None,\n",
       "  'B7': None,\n",
       "  'OUTLIER_REDUCER': 'median',\n",
       "  'score-outlier': None},\n",
       " 'LC08_232089_20171212': {'B1': None,\n",
       "  'B2': None,\n",
       "  'B7': None,\n",
       "  'OUTLIER_REDUCER': 'median',\n",
       "  'score-outlier': None},\n",
       " 'LC08_232089_20171228': {'B1': 8757.0,\n",
       "  'B2': 8846.0,\n",
       "  'B7': 4210.0,\n",
       "  'OUTLIER_REDUCER': 'median',\n",
       "  'score-outlier': 1.0},\n",
       " 'LC08_232089_20180113': {'B1': None,\n",
       "  'B2': None,\n",
       "  'B7': None,\n",
       "  'OUTLIER_REDUCER': 'median',\n",
       "  'score-outlier': None},\n",
       " 'LC08_232089_20180129': {'B1': None,\n",
       "  'B2': None,\n",
       "  'B7': None,\n",
       "  'OUTLIER_REDUCER': 'median',\n",
       "  'score-outlier': None},\n",
       " 'LC08_232089_20180214': {'B1': None,\n",
       "  'B2': None,\n",
       "  'B7': None,\n",
       "  'OUTLIER_REDUCER': 'median',\n",
       "  'score-outlier': None},\n",
       " 'LC08_232090_20171126': {'B1': 970.0,\n",
       "  'B2': 997.0,\n",
       "  'B7': 2128.0,\n",
       "  'OUTLIER_REDUCER': 'median',\n",
       "  'score-outlier': 0.0},\n",
       " 'LC08_232090_20171212': {'B1': 358.0,\n",
       "  'B2': 434.0,\n",
       "  'B7': 1410.0,\n",
       "  'OUTLIER_REDUCER': 'median',\n",
       "  'score-outlier': 0.0},\n",
       " 'LC08_232090_20180113': {'B1': 217.0,\n",
       "  'B2': 294.0,\n",
       "  'B7': 1222.0,\n",
       "  'OUTLIER_REDUCER': 'median',\n",
       "  'score-outlier': 0.6666666666666666},\n",
       " 'LC08_232090_20180129': {'B1': 268.0,\n",
       "  'B2': 335.0,\n",
       "  'B7': 1172.0,\n",
       "  'OUTLIER_REDUCER': 'median',\n",
       "  'score-outlier': 0.3333333333333333},\n",
       " 'LC08_232090_20180214': {'B1': 3979.0,\n",
       "  'B2': 4163.0,\n",
       "  'B7': 4017.0,\n",
       "  'OUTLIER_REDUCER': 'median',\n",
       "  'score-outlier': 0.0}}"
      ]
     },
     "execution_count": 13,
     "metadata": {},
     "output_type": "execute_result"
    }
   ],
   "source": [
    "# tools.imagecollection.get_values(ncol3.select(['B1', 'B1_outlier', 'B2', 'B2_outlier', 'B7', 'B7_outlier', score.name]), p, 30, side='client', properties=['OUTLIER_REDUCER'])\n",
    "tools.imagecollection.get_values(ncol3.select(['B1', 'B2', 'B7', score.name]), p, 30, side='client', properties=['OUTLIER_REDUCER'])\n",
    "# tools.imagecollection.get_values(ncol3.limit(3), p, 30, side='client')"
   ]
  },
  {
   "cell_type": "code",
   "execution_count": null,
   "metadata": {},
   "outputs": [],
   "source": []
  }
 ],
 "metadata": {
  "kernelspec": {
   "display_name": "geepy3",
   "language": "python",
   "name": "geepy3"
  },
  "language_info": {
   "codemirror_mode": {
    "name": "ipython",
    "version": 3
   },
   "file_extension": ".py",
   "mimetype": "text/x-python",
   "name": "python",
   "nbconvert_exporter": "python",
   "pygments_lexer": "ipython3",
   "version": "3.5.2"
  }
 },
 "nbformat": 4,
 "nbformat_minor": 2
}
