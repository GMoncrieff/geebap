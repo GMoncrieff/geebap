{
 "cells": [
  {
   "cell_type": "markdown",
   "metadata": {},
   "source": [
    "# Day Of Year score (DOY)\n",
    "Defining a day when the score should be the maximum (typically when some vegetation index should be maximum), compute the score for all days in an `ImageCollection`.\n",
    "\n",
    "This score is a constant value for the whole scene (not per-pixel)"
   ]
  },
  {
   "cell_type": "code",
   "execution_count": 1,
   "metadata": {},
   "outputs": [],
   "source": [
    "import ee\n",
    "ee.Initialize()"
   ]
  },
  {
   "cell_type": "code",
   "execution_count": 2,
   "metadata": {},
   "outputs": [],
   "source": [
    "from geetools import ui, tools, collection"
   ]
  },
  {
   "cell_type": "code",
   "execution_count": 3,
   "metadata": {},
   "outputs": [],
   "source": [
    "from geebap import scores\n",
    "from geebap.season import Season"
   ]
  },
  {
   "cell_type": "code",
   "execution_count": 4,
   "metadata": {},
   "outputs": [],
   "source": [
    "p = ee.Geometry.Point([-71.33972167968751, -42.737619925503054])\n",
    "aoi = p.buffer(8000).bounds()"
   ]
  },
  {
   "cell_type": "code",
   "execution_count": 5,
   "metadata": {},
   "outputs": [],
   "source": [
    "col = collection.Landsat8SR()"
   ]
  },
  {
   "cell_type": "code",
   "execution_count": 6,
   "metadata": {},
   "outputs": [],
   "source": [
    "colEE = col.collection.filterBounds(aoi)"
   ]
  },
  {
   "cell_type": "code",
   "execution_count": 7,
   "metadata": {},
   "outputs": [],
   "source": [
    "year = 2018"
   ]
  },
  {
   "cell_type": "code",
   "execution_count": 8,
   "metadata": {},
   "outputs": [],
   "source": [
    "start = '11-15'\n",
    "end = '02-15'"
   ]
  },
  {
   "cell_type": "code",
   "execution_count": 9,
   "metadata": {},
   "outputs": [],
   "source": [
    "season = Season(start, end)"
   ]
  },
  {
   "cell_type": "code",
   "execution_count": 10,
   "metadata": {},
   "outputs": [],
   "source": [
    "date_range = season.add_year(year)"
   ]
  },
  {
   "cell_type": "code",
   "execution_count": 11,
   "metadata": {},
   "outputs": [],
   "source": [
    "colEE = colEE.filterDate(date_range.start(), date_range.end())"
   ]
  },
  {
   "cell_type": "code",
   "execution_count": 12,
   "metadata": {},
   "outputs": [],
   "source": [
    "doy = '12-15'"
   ]
  },
  {
   "cell_type": "markdown",
   "metadata": {},
   "source": [
    "## Score Linear"
   ]
  },
  {
   "cell_type": "code",
   "execution_count": 13,
   "metadata": {},
   "outputs": [],
   "source": [
    "score = scores.Doy(season=season, best_doy=doy, function='linear')"
   ]
  },
  {
   "cell_type": "code",
   "execution_count": 14,
   "metadata": {},
   "outputs": [],
   "source": [
    "newcol = score.map(colEE, year=year)"
   ]
  },
  {
   "cell_type": "code",
   "execution_count": 15,
   "metadata": {},
   "outputs": [],
   "source": [
    "chart = ui.chart.Image.series(newcol, p, scale=30, bands=[score.name], label_bands=['linear'])"
   ]
  },
  {
   "cell_type": "markdown",
   "metadata": {},
   "source": [
    "## Score Normal"
   ]
  },
  {
   "cell_type": "markdown",
   "metadata": {},
   "source": [
    "Stretch 1"
   ]
  },
  {
   "cell_type": "code",
   "execution_count": 16,
   "metadata": {},
   "outputs": [],
   "source": [
    "score_normal = scores.Doy(season=season, best_doy=doy, function='gauss')"
   ]
  },
  {
   "cell_type": "code",
   "execution_count": 17,
   "metadata": {},
   "outputs": [],
   "source": [
    "newcol_n = score_normal.map(colEE, year=year)"
   ]
  },
  {
   "cell_type": "code",
   "execution_count": 18,
   "metadata": {},
   "outputs": [],
   "source": [
    "chart_n = ui.chart.Image.series(newcol_n, p, scale=30, bands=[score_normal.name], label_bands=['gauss stretch 1'])"
   ]
  },
  {
   "cell_type": "markdown",
   "metadata": {},
   "source": [
    "Stretch 2"
   ]
  },
  {
   "cell_type": "code",
   "execution_count": 19,
   "metadata": {},
   "outputs": [],
   "source": [
    "score_normal2 = scores.Doy(season=season, best_doy=doy, function='gauss', stretch=2)"
   ]
  },
  {
   "cell_type": "code",
   "execution_count": 20,
   "metadata": {},
   "outputs": [],
   "source": [
    "newcol_n3 = score_normal2.map(colEE, year=year)"
   ]
  },
  {
   "cell_type": "code",
   "execution_count": 21,
   "metadata": {},
   "outputs": [],
   "source": [
    "chart_n3 = ui.chart.Image.series(newcol_n3, p, scale=30, bands=[score_normal2.name], label_bands=['gauss stretch 2'])"
   ]
  },
  {
   "cell_type": "markdown",
   "metadata": {},
   "source": [
    "## PLOT"
   ]
  },
  {
   "cell_type": "code",
   "execution_count": 22,
   "metadata": {},
   "outputs": [
    {
     "data": {
      "application/vnd.jupyter.widget-view+json": {
       "model_id": "18330fe288064297b2a2e6e193c8566f",
       "version_major": 2,
       "version_minor": 0
      },
      "text/plain": [
       "HTML(value='<embed src=data:image/svg+xml;charset=utf-8;base64,PD94bWwgdmVyc2lvbj0nMS4wJyBlbmNvZGluZz0ndXRmLTg…"
      ]
     },
     "metadata": {},
     "output_type": "display_data"
    }
   ],
   "source": [
    "both = chart.cat(chart_n, chart_n3)\n",
    "both.title = 'DOY is {}'.format(doy)\n",
    "both.render_widget(width=800)"
   ]
  },
  {
   "cell_type": "code",
   "execution_count": 30,
   "metadata": {},
   "outputs": [
    {
     "data": {
      "text/html": [
       "<div>\n",
       "<style scoped>\n",
       "    .dataframe tbody tr th:only-of-type {\n",
       "        vertical-align: middle;\n",
       "    }\n",
       "\n",
       "    .dataframe tbody tr th {\n",
       "        vertical-align: top;\n",
       "    }\n",
       "\n",
       "    .dataframe thead th {\n",
       "        text-align: right;\n",
       "    }\n",
       "</style>\n",
       "<table border=\"1\" class=\"dataframe\">\n",
       "  <thead>\n",
       "    <tr style=\"text-align: right;\">\n",
       "      <th></th>\n",
       "      <th>gauss stretch 1</th>\n",
       "      <th>gauss stretch 2</th>\n",
       "      <th>linear</th>\n",
       "    </tr>\n",
       "  </thead>\n",
       "  <tbody>\n",
       "    <tr>\n",
       "      <th>2017-11-19 14:24:19.940</th>\n",
       "      <td>4.965734e-01</td>\n",
       "      <td>2.554828e-01</td>\n",
       "      <td>0.587694</td>\n",
       "    </tr>\n",
       "    <tr>\n",
       "      <th>2017-11-26 14:30:03.660</th>\n",
       "      <td>6.937751e-01</td>\n",
       "      <td>4.888855e-01</td>\n",
       "      <td>0.701388</td>\n",
       "    </tr>\n",
       "    <tr>\n",
       "      <th>2017-11-26 14:30:27.620</th>\n",
       "      <td>6.937828e-01</td>\n",
       "      <td>4.888960e-01</td>\n",
       "      <td>0.701392</td>\n",
       "    </tr>\n",
       "    <tr>\n",
       "      <th>2017-12-05 14:24:15.460</th>\n",
       "      <td>9.092028e-01</td>\n",
       "      <td>8.295880e-01</td>\n",
       "      <td>0.847416</td>\n",
       "    </tr>\n",
       "    <tr>\n",
       "      <th>2017-12-12 14:30:03.020</th>\n",
       "      <td>9.938406e-01</td>\n",
       "      <td>9.879371e-01</td>\n",
       "      <td>0.961110</td>\n",
       "    </tr>\n",
       "    <tr>\n",
       "      <th>2017-12-12 14:30:26.980</th>\n",
       "      <td>9.938420e-01</td>\n",
       "      <td>9.879398e-01</td>\n",
       "      <td>0.961114</td>\n",
       "    </tr>\n",
       "    <tr>\n",
       "      <th>2017-12-28 14:30:03.760</th>\n",
       "      <td>8.190668e-01</td>\n",
       "      <td>6.761451e-01</td>\n",
       "      <td>0.779168</td>\n",
       "    </tr>\n",
       "    <tr>\n",
       "      <th>2018-01-06 14:24:13.700</th>\n",
       "      <td>5.751663e-01</td>\n",
       "      <td>3.395132e-01</td>\n",
       "      <td>0.633140</td>\n",
       "    </tr>\n",
       "    <tr>\n",
       "      <th>2018-01-13 14:29:57.380</th>\n",
       "      <td>3.849014e-01</td>\n",
       "      <td>1.565757e-01</td>\n",
       "      <td>0.519446</td>\n",
       "    </tr>\n",
       "    <tr>\n",
       "      <th>2018-01-13 14:30:21.340</th>\n",
       "      <td>3.848944e-01</td>\n",
       "      <td>1.565702e-01</td>\n",
       "      <td>0.519442</td>\n",
       "    </tr>\n",
       "    <tr>\n",
       "      <th>2018-01-22 14:24:05.620</th>\n",
       "      <td>1.924456e-01</td>\n",
       "      <td>4.256673e-02</td>\n",
       "      <td>0.373419</td>\n",
       "    </tr>\n",
       "    <tr>\n",
       "      <th>2018-01-29 14:29:47.980</th>\n",
       "      <td>9.462638e-02</td>\n",
       "      <td>1.200343e-02</td>\n",
       "      <td>0.259726</td>\n",
       "    </tr>\n",
       "    <tr>\n",
       "      <th>2018-01-29 14:30:11.940</th>\n",
       "      <td>9.462335e-02</td>\n",
       "      <td>1.200277e-02</td>\n",
       "      <td>0.259721</td>\n",
       "    </tr>\n",
       "    <tr>\n",
       "      <th>2018-02-07 14:23:57.490</th>\n",
       "      <td>2.516277e-02</td>\n",
       "      <td>1.506232e-03</td>\n",
       "      <td>0.113698</td>\n",
       "    </tr>\n",
       "    <tr>\n",
       "      <th>2018-02-14 14:29:42.110</th>\n",
       "      <td>6.663434e-07</td>\n",
       "      <td>2.371716e-08</td>\n",
       "      <td>0.000005</td>\n",
       "    </tr>\n",
       "    <tr>\n",
       "      <th>2018-02-14 14:30:06.070</th>\n",
       "      <td>0.000000e+00</td>\n",
       "      <td>0.000000e+00</td>\n",
       "      <td>0.000000</td>\n",
       "    </tr>\n",
       "  </tbody>\n",
       "</table>\n",
       "</div>"
      ],
      "text/plain": [
       "                         gauss stretch 1  gauss stretch 2    linear\n",
       "2017-11-19 14:24:19.940     4.965734e-01     2.554828e-01  0.587694\n",
       "2017-11-26 14:30:03.660     6.937751e-01     4.888855e-01  0.701388\n",
       "2017-11-26 14:30:27.620     6.937828e-01     4.888960e-01  0.701392\n",
       "2017-12-05 14:24:15.460     9.092028e-01     8.295880e-01  0.847416\n",
       "2017-12-12 14:30:03.020     9.938406e-01     9.879371e-01  0.961110\n",
       "2017-12-12 14:30:26.980     9.938420e-01     9.879398e-01  0.961114\n",
       "2017-12-28 14:30:03.760     8.190668e-01     6.761451e-01  0.779168\n",
       "2018-01-06 14:24:13.700     5.751663e-01     3.395132e-01  0.633140\n",
       "2018-01-13 14:29:57.380     3.849014e-01     1.565757e-01  0.519446\n",
       "2018-01-13 14:30:21.340     3.848944e-01     1.565702e-01  0.519442\n",
       "2018-01-22 14:24:05.620     1.924456e-01     4.256673e-02  0.373419\n",
       "2018-01-29 14:29:47.980     9.462638e-02     1.200343e-02  0.259726\n",
       "2018-01-29 14:30:11.940     9.462335e-02     1.200277e-02  0.259721\n",
       "2018-02-07 14:23:57.490     2.516277e-02     1.506232e-03  0.113698\n",
       "2018-02-14 14:29:42.110     6.663434e-07     2.371716e-08  0.000005\n",
       "2018-02-14 14:30:06.070     0.000000e+00     0.000000e+00  0.000000"
      ]
     },
     "execution_count": 30,
     "metadata": {},
     "output_type": "execute_result"
    }
   ],
   "source": [
    "both.dataframe"
   ]
  },
  {
   "cell_type": "code",
   "execution_count": null,
   "metadata": {},
   "outputs": [],
   "source": []
  }
 ],
 "metadata": {
  "kernelspec": {
   "display_name": "geepy3",
   "language": "python",
   "name": "geepy3"
  },
  "language_info": {
   "codemirror_mode": {
    "name": "ipython",
    "version": 3
   },
   "file_extension": ".py",
   "mimetype": "text/x-python",
   "name": "python",
   "nbconvert_exporter": "python",
   "pygments_lexer": "ipython3",
   "version": "3.5.2"
  }
 },
 "nbformat": 4,
 "nbformat_minor": 2
}
