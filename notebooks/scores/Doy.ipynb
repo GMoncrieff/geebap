{
 "cells": [
  {
   "cell_type": "markdown",
   "metadata": {},
   "source": [
    "# Day Of Year score (DOY)\n",
    "Defining a day when the score should be the maximum (typically when some vegetation index should be maximum), compute the score for all days in an `ImageCollection`.\n",
    "\n",
    "This score is a constant value for the whole scene (not per-pixel)"
   ]
  },
  {
   "cell_type": "code",
   "execution_count": 1,
   "metadata": {},
   "outputs": [],
   "source": [
    "import ee\n",
    "ee.Initialize()"
   ]
  },
  {
   "cell_type": "code",
   "execution_count": 2,
   "metadata": {},
   "outputs": [],
   "source": [
    "from geetools import ui, tools"
   ]
  },
  {
   "cell_type": "code",
   "execution_count": 3,
   "metadata": {},
   "outputs": [],
   "source": [
    "from geebap import scores, satcol"
   ]
  },
  {
   "cell_type": "code",
   "execution_count": 4,
   "metadata": {},
   "outputs": [],
   "source": [
    "p = ee.Geometry.Point([-71.33972167968751, -42.737619925503054])\n",
    "aoi = p.buffer(8000).bounds()"
   ]
  },
  {
   "cell_type": "code",
   "execution_count": 5,
   "metadata": {},
   "outputs": [],
   "source": [
    "col = satcol.Collection.Landsat8USGS()"
   ]
  },
  {
   "cell_type": "code",
   "execution_count": 6,
   "metadata": {},
   "outputs": [],
   "source": [
    "colEE = col.colEE.filterBounds(aoi).map(col.ndvi)"
   ]
  },
  {
   "cell_type": "code",
   "execution_count": 7,
   "metadata": {},
   "outputs": [],
   "source": [
    "start = '2017-11-15'\n",
    "end = '2018-02-15'"
   ]
  },
  {
   "cell_type": "code",
   "execution_count": 8,
   "metadata": {},
   "outputs": [],
   "source": [
    "colEE = colEE.filterDate(start, end)"
   ]
  },
  {
   "cell_type": "code",
   "execution_count": 9,
   "metadata": {},
   "outputs": [],
   "source": [
    "doy = ee.Date('2018-01-15')"
   ]
  },
  {
   "cell_type": "markdown",
   "metadata": {},
   "source": [
    "## Score Linear"
   ]
  },
  {
   "cell_type": "code",
   "execution_count": 10,
   "metadata": {},
   "outputs": [],
   "source": [
    "score = scores.Doy()"
   ]
  },
  {
   "cell_type": "code",
   "execution_count": 11,
   "metadata": {},
   "outputs": [],
   "source": [
    "newcol = score.apply(colEE, doy=doy, distribution='linear')"
   ]
  },
  {
   "cell_type": "code",
   "execution_count": 12,
   "metadata": {},
   "outputs": [],
   "source": [
    "chart = ui.chart.Image.series(newcol, p, scale=30, bands=['doy_score'], label_bands=['linear'])"
   ]
  },
  {
   "cell_type": "markdown",
   "metadata": {},
   "source": [
    "## Score Normal"
   ]
  },
  {
   "cell_type": "code",
   "execution_count": 13,
   "metadata": {},
   "outputs": [],
   "source": [
    "newcol_n = score.apply(colEE, doy=doy, function='gauss')"
   ]
  },
  {
   "cell_type": "code",
   "execution_count": 14,
   "metadata": {},
   "outputs": [],
   "source": [
    "chart_n = ui.chart.Image.series(newcol_n, p, scale=30, bands=['doy_score'], label_bands=['gauss stretch 1'])"
   ]
  },
  {
   "cell_type": "code",
   "execution_count": 15,
   "metadata": {},
   "outputs": [],
   "source": [
    "newcol_n3 = score.apply(colEE, doy=doy, function='gauss', stretch=2)"
   ]
  },
  {
   "cell_type": "code",
   "execution_count": 16,
   "metadata": {},
   "outputs": [],
   "source": [
    "chart_n3 = ui.chart.Image.series(newcol_n3, p, scale=30, bands=['doy_score'], label_bands=['gauss stretch 2'])"
   ]
  },
  {
   "cell_type": "markdown",
   "metadata": {},
   "source": [
    "## PLOT"
   ]
  },
  {
   "cell_type": "code",
   "execution_count": 17,
   "metadata": {},
   "outputs": [
    {
     "data": {
      "application/vnd.jupyter.widget-view+json": {
       "model_id": "07a6bc95372c461d97a85f3aedb24939",
       "version_major": 2,
       "version_minor": 0
      },
      "text/plain": [
       "HTML(value='<embed src=data:image/svg+xml;charset=utf-8;base64,PD94bWwgdmVyc2lvbj0nMS4wJyBlbmNvZGluZz0ndXRmLTg…"
      ]
     },
     "metadata": {},
     "output_type": "display_data"
    }
   ],
   "source": [
    "both = chart.cat(chart_n, chart_n3)\n",
    "both.render_widget(width=800)"
   ]
  },
  {
   "cell_type": "code",
   "execution_count": 18,
   "metadata": {},
   "outputs": [
    {
     "data": {
      "text/html": [
       "<div>\n",
       "<style scoped>\n",
       "    .dataframe tbody tr th:only-of-type {\n",
       "        vertical-align: middle;\n",
       "    }\n",
       "\n",
       "    .dataframe tbody tr th {\n",
       "        vertical-align: top;\n",
       "    }\n",
       "\n",
       "    .dataframe thead th {\n",
       "        text-align: right;\n",
       "    }\n",
       "</style>\n",
       "<table border=\"1\" class=\"dataframe\">\n",
       "  <thead>\n",
       "    <tr style=\"text-align: right;\">\n",
       "      <th></th>\n",
       "      <th>linear</th>\n",
       "      <th>gauss stretch 1</th>\n",
       "      <th>gauss stretch 2</th>\n",
       "    </tr>\n",
       "  </thead>\n",
       "  <tbody>\n",
       "    <tr>\n",
       "      <th>2017-11-19 14:24:19.940</th>\n",
       "      <td>1.110223e-16</td>\n",
       "      <td>0.000000</td>\n",
       "      <td>0.000000</td>\n",
       "    </tr>\n",
       "    <tr>\n",
       "      <th>2017-11-26 14:30:03.660</th>\n",
       "      <td>1.241845e-01</td>\n",
       "      <td>0.042682</td>\n",
       "      <td>0.004560</td>\n",
       "    </tr>\n",
       "    <tr>\n",
       "      <th>2017-11-26 14:30:27.620</th>\n",
       "      <td>1.241894e-01</td>\n",
       "      <td>0.042685</td>\n",
       "      <td>0.004561</td>\n",
       "    </tr>\n",
       "    <tr>\n",
       "      <th>2017-12-05 14:24:15.460</th>\n",
       "      <td>2.836882e-01</td>\n",
       "      <td>0.148667</td>\n",
       "      <td>0.030585</td>\n",
       "    </tr>\n",
       "    <tr>\n",
       "      <th>2017-12-12 14:30:03.020</th>\n",
       "      <td>4.078735e-01</td>\n",
       "      <td>0.282817</td>\n",
       "      <td>0.093580</td>\n",
       "    </tr>\n",
       "    <tr>\n",
       "      <th>2017-12-12 14:30:26.980</th>\n",
       "      <td>4.078784e-01</td>\n",
       "      <td>0.282824</td>\n",
       "      <td>0.093584</td>\n",
       "    </tr>\n",
       "    <tr>\n",
       "      <th>2017-12-28 14:30:03.760</th>\n",
       "      <td>6.915627e-01</td>\n",
       "      <td>0.716451</td>\n",
       "      <td>0.526918</td>\n",
       "    </tr>\n",
       "    <tr>\n",
       "      <th>2018-01-06 14:24:13.700</th>\n",
       "      <td>8.510660e-01</td>\n",
       "      <td>0.925563</td>\n",
       "      <td>0.861285</td>\n",
       "    </tr>\n",
       "    <tr>\n",
       "      <th>2018-01-13 14:29:57.380</th>\n",
       "      <td>9.752505e-01</td>\n",
       "      <td>0.997869</td>\n",
       "      <td>0.995885</td>\n",
       "    </tr>\n",
       "    <tr>\n",
       "      <th>2018-01-13 14:30:21.340</th>\n",
       "      <td>9.752555e-01</td>\n",
       "      <td>0.997870</td>\n",
       "      <td>0.995887</td>\n",
       "    </tr>\n",
       "    <tr>\n",
       "      <th>2018-01-22 14:24:05.620</th>\n",
       "      <td>8.652465e-01</td>\n",
       "      <td>0.938654</td>\n",
       "      <td>0.884931</td>\n",
       "    </tr>\n",
       "    <tr>\n",
       "      <th>2018-01-29 14:29:47.980</th>\n",
       "      <td>7.410623e-01</td>\n",
       "      <td>0.790947</td>\n",
       "      <td>0.636680</td>\n",
       "    </tr>\n",
       "    <tr>\n",
       "      <th>2018-01-29 14:30:11.940</th>\n",
       "      <td>7.410574e-01</td>\n",
       "      <td>0.790940</td>\n",
       "      <td>0.636669</td>\n",
       "    </tr>\n",
       "    <tr>\n",
       "      <th>2018-02-07 14:23:57.490</th>\n",
       "      <td>5.815591e-01</td>\n",
       "      <td>0.539112</td>\n",
       "      <td>0.307296</td>\n",
       "    </tr>\n",
       "    <tr>\n",
       "      <th>2018-02-14 14:29:42.110</th>\n",
       "      <td>4.573744e-01</td>\n",
       "      <td>0.349064</td>\n",
       "      <td>0.137075</td>\n",
       "    </tr>\n",
       "    <tr>\n",
       "      <th>2018-02-14 14:30:06.070</th>\n",
       "      <td>4.573695e-01</td>\n",
       "      <td>0.349057</td>\n",
       "      <td>0.137070</td>\n",
       "    </tr>\n",
       "  </tbody>\n",
       "</table>\n",
       "</div>"
      ],
      "text/plain": [
       "                               linear  gauss stretch 1  gauss stretch 2\n",
       "2017-11-19 14:24:19.940  1.110223e-16         0.000000         0.000000\n",
       "2017-11-26 14:30:03.660  1.241845e-01         0.042682         0.004560\n",
       "2017-11-26 14:30:27.620  1.241894e-01         0.042685         0.004561\n",
       "2017-12-05 14:24:15.460  2.836882e-01         0.148667         0.030585\n",
       "2017-12-12 14:30:03.020  4.078735e-01         0.282817         0.093580\n",
       "2017-12-12 14:30:26.980  4.078784e-01         0.282824         0.093584\n",
       "2017-12-28 14:30:03.760  6.915627e-01         0.716451         0.526918\n",
       "2018-01-06 14:24:13.700  8.510660e-01         0.925563         0.861285\n",
       "2018-01-13 14:29:57.380  9.752505e-01         0.997869         0.995885\n",
       "2018-01-13 14:30:21.340  9.752555e-01         0.997870         0.995887\n",
       "2018-01-22 14:24:05.620  8.652465e-01         0.938654         0.884931\n",
       "2018-01-29 14:29:47.980  7.410623e-01         0.790947         0.636680\n",
       "2018-01-29 14:30:11.940  7.410574e-01         0.790940         0.636669\n",
       "2018-02-07 14:23:57.490  5.815591e-01         0.539112         0.307296\n",
       "2018-02-14 14:29:42.110  4.573744e-01         0.349064         0.137075\n",
       "2018-02-14 14:30:06.070  4.573695e-01         0.349057         0.137070"
      ]
     },
     "execution_count": 18,
     "metadata": {},
     "output_type": "execute_result"
    }
   ],
   "source": [
    "both.dataframe"
   ]
  },
  {
   "cell_type": "code",
   "execution_count": null,
   "metadata": {},
   "outputs": [],
   "source": []
  }
 ],
 "metadata": {
  "kernelspec": {
   "display_name": "geepy3",
   "language": "python",
   "name": "geepy3"
  },
  "language_info": {
   "codemirror_mode": {
    "name": "ipython",
    "version": 3
   },
   "file_extension": ".py",
   "mimetype": "text/x-python",
   "name": "python",
   "nbconvert_exporter": "python",
   "pygments_lexer": "ipython3",
   "version": "3.5.2"
  }
 },
 "nbformat": 4,
 "nbformat_minor": 2
}
