{
 "cells": [
  {
   "cell_type": "markdown",
   "metadata": {},
   "source": [
    "# Day Of Year score (DOY)\n",
    "Defining a day when the score should be the maximum (typically when some vegetation index should be maximum), compute the score for all days in an `ImageCollection`.\n",
    "\n",
    "This score is a constant value for the whole scene (not per-pixel)"
   ]
  },
  {
   "cell_type": "code",
   "execution_count": 1,
   "metadata": {},
   "outputs": [],
   "source": [
    "import ee\n",
    "ee.Initialize()"
   ]
  },
  {
   "cell_type": "code",
   "execution_count": 2,
   "metadata": {},
   "outputs": [],
   "source": [
    "from geetools import ui, tools"
   ]
  },
  {
   "cell_type": "code",
   "execution_count": 3,
   "metadata": {},
   "outputs": [],
   "source": [
    "from geebap import scores, satcol"
   ]
  },
  {
   "cell_type": "code",
   "execution_count": 4,
   "metadata": {},
   "outputs": [],
   "source": [
    "p = ee.Geometry.Point([-71.33972167968751, -42.737619925503054])\n",
    "aoi = p.buffer(8000).bounds()"
   ]
  },
  {
   "cell_type": "code",
   "execution_count": 5,
   "metadata": {},
   "outputs": [],
   "source": [
    "col = satcol.Collection.Landsat8USGS()"
   ]
  },
  {
   "cell_type": "code",
   "execution_count": 6,
   "metadata": {},
   "outputs": [],
   "source": [
    "colEE = col.colEE.filterBounds(aoi).map(col.ndvi)"
   ]
  },
  {
   "cell_type": "code",
   "execution_count": 7,
   "metadata": {},
   "outputs": [],
   "source": [
    "start = '2017-11-15'\n",
    "end = '2018-02-15'"
   ]
  },
  {
   "cell_type": "code",
   "execution_count": 8,
   "metadata": {},
   "outputs": [],
   "source": [
    "colEE = colEE.filterDate(start, end)"
   ]
  },
  {
   "cell_type": "code",
   "execution_count": 9,
   "metadata": {},
   "outputs": [],
   "source": [
    "doy = ee.Date('2018-01-15')"
   ]
  },
  {
   "cell_type": "markdown",
   "metadata": {},
   "source": [
    "## Score Linear"
   ]
  },
  {
   "cell_type": "code",
   "execution_count": 10,
   "metadata": {},
   "outputs": [],
   "source": [
    "score = scores.Doy()"
   ]
  },
  {
   "cell_type": "code",
   "execution_count": 16,
   "metadata": {},
   "outputs": [],
   "source": [
    "newcol = score.apply(colEE, doy=doy, distribution='linear')"
   ]
  },
  {
   "cell_type": "code",
   "execution_count": 17,
   "metadata": {},
   "outputs": [],
   "source": [
    "chart = ui.chart.Image.series(newcol, p, scale=30, bands=['doy'])"
   ]
  },
  {
   "cell_type": "code",
   "execution_count": 24,
   "metadata": {},
   "outputs": [
    {
     "data": {
      "application/vnd.jupyter.widget-view+json": {
       "model_id": "22e5b29041904452a2f3e5b0b9218af8",
       "version_major": 2,
       "version_minor": 0
      },
      "text/plain": [
       "HTML(value='<embed src=data:image/svg+xml;charset=utf-8;base64,PD94bWwgdmVyc2lvbj0nMS4wJyBlbmNvZGluZz0ndXRmLTg…"
      ]
     },
     "metadata": {},
     "output_type": "display_data"
    }
   ],
   "source": [
    "chart.render_widget(width=600)"
   ]
  },
  {
   "cell_type": "code",
   "execution_count": 19,
   "metadata": {},
   "outputs": [
    {
     "data": {
      "text/html": [
       "<div>\n",
       "<style scoped>\n",
       "    .dataframe tbody tr th:only-of-type {\n",
       "        vertical-align: middle;\n",
       "    }\n",
       "\n",
       "    .dataframe tbody tr th {\n",
       "        vertical-align: top;\n",
       "    }\n",
       "\n",
       "    .dataframe thead th {\n",
       "        text-align: right;\n",
       "    }\n",
       "</style>\n",
       "<table border=\"1\" class=\"dataframe\">\n",
       "  <thead>\n",
       "    <tr style=\"text-align: right;\">\n",
       "      <th></th>\n",
       "      <th>doy</th>\n",
       "      <th>system:time_start</th>\n",
       "    </tr>\n",
       "  </thead>\n",
       "  <tbody>\n",
       "    <tr>\n",
       "      <th>LC08_231090_20171119</th>\n",
       "      <td>0.000000</td>\n",
       "      <td>1.511101e+12</td>\n",
       "    </tr>\n",
       "    <tr>\n",
       "      <th>LC08_232089_20171126</th>\n",
       "      <td>0.124185</td>\n",
       "      <td>1.511707e+12</td>\n",
       "    </tr>\n",
       "    <tr>\n",
       "      <th>LC08_232090_20171126</th>\n",
       "      <td>0.124189</td>\n",
       "      <td>1.511707e+12</td>\n",
       "    </tr>\n",
       "    <tr>\n",
       "      <th>LC08_231090_20171205</th>\n",
       "      <td>0.283688</td>\n",
       "      <td>1.512484e+12</td>\n",
       "    </tr>\n",
       "    <tr>\n",
       "      <th>LC08_232089_20171212</th>\n",
       "      <td>0.407873</td>\n",
       "      <td>1.513089e+12</td>\n",
       "    </tr>\n",
       "    <tr>\n",
       "      <th>LC08_232090_20171212</th>\n",
       "      <td>0.407878</td>\n",
       "      <td>1.513089e+12</td>\n",
       "    </tr>\n",
       "    <tr>\n",
       "      <th>LC08_232089_20171228</th>\n",
       "      <td>0.691563</td>\n",
       "      <td>1.514471e+12</td>\n",
       "    </tr>\n",
       "    <tr>\n",
       "      <th>LC08_231090_20180106</th>\n",
       "      <td>0.851066</td>\n",
       "      <td>1.515249e+12</td>\n",
       "    </tr>\n",
       "    <tr>\n",
       "      <th>LC08_232089_20180113</th>\n",
       "      <td>0.975251</td>\n",
       "      <td>1.515854e+12</td>\n",
       "    </tr>\n",
       "    <tr>\n",
       "      <th>LC08_232090_20180113</th>\n",
       "      <td>0.975255</td>\n",
       "      <td>1.515854e+12</td>\n",
       "    </tr>\n",
       "    <tr>\n",
       "      <th>LC08_231090_20180122</th>\n",
       "      <td>0.865247</td>\n",
       "      <td>1.516631e+12</td>\n",
       "    </tr>\n",
       "    <tr>\n",
       "      <th>LC08_232089_20180129</th>\n",
       "      <td>0.741062</td>\n",
       "      <td>1.517236e+12</td>\n",
       "    </tr>\n",
       "    <tr>\n",
       "      <th>LC08_232090_20180129</th>\n",
       "      <td>0.741057</td>\n",
       "      <td>1.517236e+12</td>\n",
       "    </tr>\n",
       "    <tr>\n",
       "      <th>LC08_231090_20180207</th>\n",
       "      <td>0.581559</td>\n",
       "      <td>1.518013e+12</td>\n",
       "    </tr>\n",
       "    <tr>\n",
       "      <th>LC08_232089_20180214</th>\n",
       "      <td>0.457374</td>\n",
       "      <td>1.518619e+12</td>\n",
       "    </tr>\n",
       "    <tr>\n",
       "      <th>LC08_232090_20180214</th>\n",
       "      <td>0.457369</td>\n",
       "      <td>1.518619e+12</td>\n",
       "    </tr>\n",
       "  </tbody>\n",
       "</table>\n",
       "</div>"
      ],
      "text/plain": [
       "                           doy  system:time_start\n",
       "LC08_231090_20171119  0.000000       1.511101e+12\n",
       "LC08_232089_20171126  0.124185       1.511707e+12\n",
       "LC08_232090_20171126  0.124189       1.511707e+12\n",
       "LC08_231090_20171205  0.283688       1.512484e+12\n",
       "LC08_232089_20171212  0.407873       1.513089e+12\n",
       "LC08_232090_20171212  0.407878       1.513089e+12\n",
       "LC08_232089_20171228  0.691563       1.514471e+12\n",
       "LC08_231090_20180106  0.851066       1.515249e+12\n",
       "LC08_232089_20180113  0.975251       1.515854e+12\n",
       "LC08_232090_20180113  0.975255       1.515854e+12\n",
       "LC08_231090_20180122  0.865247       1.516631e+12\n",
       "LC08_232089_20180129  0.741062       1.517236e+12\n",
       "LC08_232090_20180129  0.741057       1.517236e+12\n",
       "LC08_231090_20180207  0.581559       1.518013e+12\n",
       "LC08_232089_20180214  0.457374       1.518619e+12\n",
       "LC08_232090_20180214  0.457369       1.518619e+12"
      ]
     },
     "execution_count": 19,
     "metadata": {},
     "output_type": "execute_result"
    }
   ],
   "source": [
    "chart.data"
   ]
  },
  {
   "cell_type": "markdown",
   "metadata": {},
   "source": [
    "## Score Normal"
   ]
  },
  {
   "cell_type": "code",
   "execution_count": 20,
   "metadata": {},
   "outputs": [],
   "source": [
    "newcol_n = score.apply(colEE, doy=doy, distribution='normal')"
   ]
  },
  {
   "cell_type": "code",
   "execution_count": 21,
   "metadata": {},
   "outputs": [],
   "source": [
    "chart_n = ui.chart.Image.series(newcol_n, p, scale=30, bands=['doy'])"
   ]
  },
  {
   "cell_type": "code",
   "execution_count": 25,
   "metadata": {},
   "outputs": [
    {
     "data": {
      "application/vnd.jupyter.widget-view+json": {
       "model_id": "7be09df71d594654b31a509643049510",
       "version_major": 2,
       "version_minor": 0
      },
      "text/plain": [
       "HTML(value='<embed src=data:image/svg+xml;charset=utf-8;base64,PD94bWwgdmVyc2lvbj0nMS4wJyBlbmNvZGluZz0ndXRmLTg…"
      ]
     },
     "metadata": {},
     "output_type": "display_data"
    }
   ],
   "source": [
    "chart_n.render_widget(width=600)"
   ]
  },
  {
   "cell_type": "code",
   "execution_count": 23,
   "metadata": {},
   "outputs": [
    {
     "data": {
      "text/html": [
       "<div>\n",
       "<style scoped>\n",
       "    .dataframe tbody tr th:only-of-type {\n",
       "        vertical-align: middle;\n",
       "    }\n",
       "\n",
       "    .dataframe tbody tr th {\n",
       "        vertical-align: top;\n",
       "    }\n",
       "\n",
       "    .dataframe thead th {\n",
       "        text-align: right;\n",
       "    }\n",
       "</style>\n",
       "<table border=\"1\" class=\"dataframe\">\n",
       "  <thead>\n",
       "    <tr style=\"text-align: right;\">\n",
       "      <th></th>\n",
       "      <th>doy</th>\n",
       "      <th>system:time_start</th>\n",
       "    </tr>\n",
       "  </thead>\n",
       "  <tbody>\n",
       "    <tr>\n",
       "      <th>LC08_231090_20171119</th>\n",
       "      <td>0.000000</td>\n",
       "      <td>1.511101e+12</td>\n",
       "    </tr>\n",
       "    <tr>\n",
       "      <th>LC08_232089_20171126</th>\n",
       "      <td>0.098130</td>\n",
       "      <td>1.511707e+12</td>\n",
       "    </tr>\n",
       "    <tr>\n",
       "      <th>LC08_232090_20171126</th>\n",
       "      <td>0.098134</td>\n",
       "      <td>1.511707e+12</td>\n",
       "    </tr>\n",
       "    <tr>\n",
       "      <th>LC08_231090_20171205</th>\n",
       "      <td>0.268111</td>\n",
       "      <td>1.512484e+12</td>\n",
       "    </tr>\n",
       "    <tr>\n",
       "      <th>LC08_232089_20171212</th>\n",
       "      <td>0.428601</td>\n",
       "      <td>1.513089e+12</td>\n",
       "    </tr>\n",
       "    <tr>\n",
       "      <th>LC08_232090_20171212</th>\n",
       "      <td>0.428607</td>\n",
       "      <td>1.513089e+12</td>\n",
       "    </tr>\n",
       "    <tr>\n",
       "      <th>LC08_232089_20171228</th>\n",
       "      <td>0.805802</td>\n",
       "      <td>1.514471e+12</td>\n",
       "    </tr>\n",
       "    <tr>\n",
       "      <th>LC08_231090_20180106</th>\n",
       "      <td>0.951541</td>\n",
       "      <td>1.515249e+12</td>\n",
       "    </tr>\n",
       "    <tr>\n",
       "      <th>LC08_232089_20180113</th>\n",
       "      <td>0.998634</td>\n",
       "      <td>1.515854e+12</td>\n",
       "    </tr>\n",
       "    <tr>\n",
       "      <th>LC08_232090_20180113</th>\n",
       "      <td>0.998635</td>\n",
       "      <td>1.515854e+12</td>\n",
       "    </tr>\n",
       "    <tr>\n",
       "      <th>LC08_231090_20180122</th>\n",
       "      <td>0.960179</td>\n",
       "      <td>1.516631e+12</td>\n",
       "    </tr>\n",
       "    <tr>\n",
       "      <th>LC08_232089_20180129</th>\n",
       "      <td>0.859535</td>\n",
       "      <td>1.517236e+12</td>\n",
       "    </tr>\n",
       "    <tr>\n",
       "      <th>LC08_232090_20180129</th>\n",
       "      <td>0.859530</td>\n",
       "      <td>1.517236e+12</td>\n",
       "    </tr>\n",
       "    <tr>\n",
       "      <th>LC08_231090_20180207</th>\n",
       "      <td>0.667598</td>\n",
       "      <td>1.518013e+12</td>\n",
       "    </tr>\n",
       "    <tr>\n",
       "      <th>LC08_232089_20180214</th>\n",
       "      <td>0.496622</td>\n",
       "      <td>1.518619e+12</td>\n",
       "    </tr>\n",
       "    <tr>\n",
       "      <th>LC08_232090_20180214</th>\n",
       "      <td>0.496615</td>\n",
       "      <td>1.518619e+12</td>\n",
       "    </tr>\n",
       "  </tbody>\n",
       "</table>\n",
       "</div>"
      ],
      "text/plain": [
       "                           doy  system:time_start\n",
       "LC08_231090_20171119  0.000000       1.511101e+12\n",
       "LC08_232089_20171126  0.098130       1.511707e+12\n",
       "LC08_232090_20171126  0.098134       1.511707e+12\n",
       "LC08_231090_20171205  0.268111       1.512484e+12\n",
       "LC08_232089_20171212  0.428601       1.513089e+12\n",
       "LC08_232090_20171212  0.428607       1.513089e+12\n",
       "LC08_232089_20171228  0.805802       1.514471e+12\n",
       "LC08_231090_20180106  0.951541       1.515249e+12\n",
       "LC08_232089_20180113  0.998634       1.515854e+12\n",
       "LC08_232090_20180113  0.998635       1.515854e+12\n",
       "LC08_231090_20180122  0.960179       1.516631e+12\n",
       "LC08_232089_20180129  0.859535       1.517236e+12\n",
       "LC08_232090_20180129  0.859530       1.517236e+12\n",
       "LC08_231090_20180207  0.667598       1.518013e+12\n",
       "LC08_232089_20180214  0.496622       1.518619e+12\n",
       "LC08_232090_20180214  0.496615       1.518619e+12"
      ]
     },
     "execution_count": 23,
     "metadata": {},
     "output_type": "execute_result"
    }
   ],
   "source": [
    "chart_n.data"
   ]
  },
  {
   "cell_type": "code",
   "execution_count": null,
   "metadata": {},
   "outputs": [],
   "source": []
  }
 ],
 "metadata": {
  "kernelspec": {
   "display_name": "geepy3",
   "language": "python",
   "name": "geepy3"
  },
  "language_info": {
   "codemirror_mode": {
    "name": "ipython",
    "version": 3
   },
   "file_extension": ".py",
   "mimetype": "text/x-python",
   "name": "python",
   "nbconvert_exporter": "python",
   "pygments_lexer": "ipython3",
   "version": "3.5.2"
  }
 },
 "nbformat": 4,
 "nbformat_minor": 2
}
