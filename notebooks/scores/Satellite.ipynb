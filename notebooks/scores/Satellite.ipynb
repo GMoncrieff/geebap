{
 "cells": [
  {
   "cell_type": "markdown",
   "metadata": {},
   "source": [
    "# Satellite Score"
   ]
  },
  {
   "cell_type": "code",
   "execution_count": 1,
   "metadata": {},
   "outputs": [],
   "source": [
    "from geebap import season, priority\n",
    "from geebap.season import Season"
   ]
  },
  {
   "cell_type": "code",
   "execution_count": 2,
   "metadata": {},
   "outputs": [],
   "source": [
    "from geebap import scores"
   ]
  },
  {
   "cell_type": "code",
   "execution_count": 3,
   "metadata": {},
   "outputs": [],
   "source": [
    "from geetools import tools, ui, collection"
   ]
  },
  {
   "cell_type": "code",
   "execution_count": 4,
   "metadata": {},
   "outputs": [],
   "source": [
    "import ee"
   ]
  },
  {
   "cell_type": "markdown",
   "metadata": {},
   "source": [
    "## Inspect Satellite Priority for 2010"
   ]
  },
  {
   "cell_type": "code",
   "execution_count": 5,
   "metadata": {},
   "outputs": [
    {
     "data": {
      "text/plain": [
       "['LANDSAT/LT05/C01/T1_SR',\n",
       " 'LANDSAT/LT05/C01/T1_TOA',\n",
       " 'LANDSAT/LE07/C01/T1_SR',\n",
       " 'LANDSAT/LE07/C01/T1_TOA']"
      ]
     },
     "execution_count": 5,
     "metadata": {},
     "output_type": "execute_result"
    }
   ],
   "source": [
    "priority.SeasonPriority.relation[2003]"
   ]
  },
  {
   "cell_type": "code",
   "execution_count": 6,
   "metadata": {},
   "outputs": [],
   "source": [
    "p = ee.Geometry.Point([-71.5, -42.5])\n",
    "aoi = p.buffer(8000).bounds()"
   ]
  },
  {
   "cell_type": "code",
   "execution_count": 7,
   "metadata": {},
   "outputs": [],
   "source": [
    "start = '11-15'\n",
    "end = '02-15'"
   ]
  },
  {
   "cell_type": "code",
   "execution_count": 8,
   "metadata": {},
   "outputs": [],
   "source": [
    "year = 2002"
   ]
  },
  {
   "cell_type": "code",
   "execution_count": 9,
   "metadata": {},
   "outputs": [],
   "source": [
    "season = Season('11-15', '03-15')"
   ]
  },
  {
   "cell_type": "code",
   "execution_count": 10,
   "metadata": {},
   "outputs": [],
   "source": [
    "date_range = season.add_year(year)"
   ]
  },
  {
   "cell_type": "code",
   "execution_count": 11,
   "metadata": {},
   "outputs": [
    {
     "name": "stdout",
     "output_type": "stream",
     "text": [
      "'2001-11-15T00:00:00 to 2002-03-15T00:00:00'\n",
      "\n"
     ]
    }
   ],
   "source": [
    "ui.eprint(date_range)"
   ]
  },
  {
   "cell_type": "markdown",
   "metadata": {},
   "source": [
    "## Create Score"
   ]
  },
  {
   "cell_type": "code",
   "execution_count": 12,
   "metadata": {},
   "outputs": [],
   "source": [
    "score = scores.Satellite()"
   ]
  },
  {
   "cell_type": "markdown",
   "metadata": {},
   "source": [
    "## Landsat 5"
   ]
  },
  {
   "cell_type": "code",
   "execution_count": 13,
   "metadata": {},
   "outputs": [],
   "source": [
    "l5 = collection.Landsat5SR()"
   ]
  },
  {
   "cell_type": "code",
   "execution_count": 14,
   "metadata": {},
   "outputs": [],
   "source": [
    "l5col = l5.collection"
   ]
  },
  {
   "cell_type": "code",
   "execution_count": 15,
   "metadata": {},
   "outputs": [],
   "source": [
    "l5col = l5col.filterBounds(p).filterDate(date_range.start(), date_range.end())"
   ]
  },
  {
   "cell_type": "code",
   "execution_count": 16,
   "metadata": {},
   "outputs": [],
   "source": [
    "l5_score = score.map(l5col, col=l5)"
   ]
  },
  {
   "cell_type": "code",
   "execution_count": 17,
   "metadata": {},
   "outputs": [
    {
     "data": {
      "text/plain": [
       "{'LT05_231090_20011209': {'score-sat': 0.8999999761581421},\n",
       " 'LT05_231090_20011225': {'score-sat': 0.8999999761581421},\n",
       " 'LT05_231090_20020110': {'score-sat': 0.8999999761581421},\n",
       " 'LT05_231090_20020126': {'score-sat': 0.8999999761581421},\n",
       " 'LT05_231090_20020211': {'score-sat': 0.8999999761581421},\n",
       " 'LT05_232089_20011216': {'score-sat': 0.8999999761581421},\n",
       " 'LT05_232089_20020101': {'score-sat': 0.8999999761581421},\n",
       " 'LT05_232089_20020117': {'score-sat': 0.8999999761581421},\n",
       " 'LT05_232089_20020218': {'score-sat': 0.8999999761581421},\n",
       " 'LT05_232089_20020306': {'score-sat': 0.8999999761581421},\n",
       " 'LT05_232090_20011216': {'score-sat': 0.8999999761581421},\n",
       " 'LT05_232090_20020117': {'score-sat': 0.8999999761581421},\n",
       " 'LT05_232090_20020218': {'score-sat': 0.8999999761581421}}"
      ]
     },
     "execution_count": 17,
     "metadata": {},
     "output_type": "execute_result"
    }
   ],
   "source": [
    "tools.imagecollection.get_values(l5_score.select(score.name), p, 30, side='client')"
   ]
  },
  {
   "cell_type": "markdown",
   "metadata": {},
   "source": [
    "## Landsat 7"
   ]
  },
  {
   "cell_type": "code",
   "execution_count": 18,
   "metadata": {},
   "outputs": [],
   "source": [
    "l7 = collection.Landsat7SR()"
   ]
  },
  {
   "cell_type": "code",
   "execution_count": 19,
   "metadata": {},
   "outputs": [],
   "source": [
    "l7col = l7.collection"
   ]
  },
  {
   "cell_type": "code",
   "execution_count": 20,
   "metadata": {},
   "outputs": [],
   "source": [
    "l7col = l7col.filterBounds(p).filterDate(date_range.start(), date_range.end())"
   ]
  },
  {
   "cell_type": "code",
   "execution_count": 21,
   "metadata": {},
   "outputs": [],
   "source": [
    "l7_score = score.map(l7col, col=l7)"
   ]
  },
  {
   "cell_type": "code",
   "execution_count": 22,
   "metadata": {},
   "outputs": [
    {
     "data": {
      "text/plain": [
       "{'LE07_231090_20011201': {'score-sat': 1.0},\n",
       " 'LE07_231090_20011217': {'score-sat': 1.0},\n",
       " 'LE07_231090_20020102': {'score-sat': 1.0},\n",
       " 'LE07_231090_20020118': {'score-sat': 1.0},\n",
       " 'LE07_231090_20020203': {'score-sat': 1.0},\n",
       " 'LE07_232089_20011208': {'score-sat': 1.0},\n",
       " 'LE07_232089_20020109': {'score-sat': 1.0},\n",
       " 'LE07_232090_20011208': {'score-sat': 1.0},\n",
       " 'LE07_232090_20020109': {'score-sat': 1.0},\n",
       " 'LE07_232090_20020210': {'score-sat': 1.0}}"
      ]
     },
     "execution_count": 22,
     "metadata": {},
     "output_type": "execute_result"
    }
   ],
   "source": [
    "tools.imagecollection.get_values(l7_score.select('score-sat'), p, 30, side='client')"
   ]
  },
  {
   "cell_type": "code",
   "execution_count": null,
   "metadata": {},
   "outputs": [],
   "source": []
  }
 ],
 "metadata": {
  "kernelspec": {
   "display_name": "geepy3",
   "language": "python",
   "name": "geepy3"
  },
  "language_info": {
   "codemirror_mode": {
    "name": "ipython",
    "version": 3
   },
   "file_extension": ".py",
   "mimetype": "text/x-python",
   "name": "python",
   "nbconvert_exporter": "python",
   "pygments_lexer": "ipython3",
   "version": "3.5.2"
  }
 },
 "nbformat": 4,
 "nbformat_minor": 2
}
