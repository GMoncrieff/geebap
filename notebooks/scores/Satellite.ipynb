{
 "cells": [
  {
   "cell_type": "markdown",
   "metadata": {},
   "source": [
    "# Satellite Score"
   ]
  },
  {
   "cell_type": "code",
   "execution_count": 7,
   "metadata": {},
   "outputs": [],
   "source": [
    "from geebap import season, satcol\n",
    "from geebap.season import Season"
   ]
  },
  {
   "cell_type": "code",
   "execution_count": 2,
   "metadata": {},
   "outputs": [],
   "source": [
    "from geebap import scores"
   ]
  },
  {
   "cell_type": "code",
   "execution_count": 3,
   "metadata": {},
   "outputs": [],
   "source": [
    "from geetools import tools, ui"
   ]
  },
  {
   "cell_type": "code",
   "execution_count": 4,
   "metadata": {},
   "outputs": [],
   "source": [
    "import ee"
   ]
  },
  {
   "cell_type": "markdown",
   "metadata": {},
   "source": [
    "## Inspect Satellite Priority for 2010"
   ]
  },
  {
   "cell_type": "code",
   "execution_count": 5,
   "metadata": {},
   "outputs": [
    {
     "data": {
      "text/plain": [
       "['LANDSAT/LT05/C01/T1_SR',\n",
       " 'LANDSAT/LT05/C01/T1_TOA',\n",
       " 'LANDSAT/LE07/C01/T1_SR',\n",
       " 'LANDSAT/LE07/C01/T1_TOA']"
      ]
     },
     "execution_count": 5,
     "metadata": {},
     "output_type": "execute_result"
    }
   ],
   "source": [
    "season.SeasonPriority.relation[2010]"
   ]
  },
  {
   "cell_type": "code",
   "execution_count": 8,
   "metadata": {},
   "outputs": [],
   "source": [
    "p = ee.Geometry.Point([-71.5, -42.5])\n",
    "aoi = p.buffer(8000).bounds()"
   ]
  },
  {
   "cell_type": "code",
   "execution_count": 9,
   "metadata": {},
   "outputs": [],
   "source": [
    "start = '11-15'\n",
    "end = '02-15'"
   ]
  },
  {
   "cell_type": "code",
   "execution_count": 11,
   "metadata": {},
   "outputs": [],
   "source": [
    "year = 2011"
   ]
  },
  {
   "cell_type": "code",
   "execution_count": 10,
   "metadata": {},
   "outputs": [],
   "source": [
    "season = Season.Growing_South()"
   ]
  },
  {
   "cell_type": "code",
   "execution_count": 24,
   "metadata": {},
   "outputs": [],
   "source": [
    "date_range = season.add_year(year)"
   ]
  },
  {
   "cell_type": "code",
   "execution_count": 25,
   "metadata": {},
   "outputs": [
    {
     "data": {
      "text/plain": [
       "('2010-11-15', '2011-03-15')"
      ]
     },
     "execution_count": 25,
     "metadata": {},
     "output_type": "execute_result"
    }
   ],
   "source": [
    "date_range"
   ]
  },
  {
   "cell_type": "markdown",
   "metadata": {},
   "source": [
    "## Create Score"
   ]
  },
  {
   "cell_type": "code",
   "execution_count": 12,
   "metadata": {},
   "outputs": [],
   "source": [
    "score = scores.Satellite()"
   ]
  },
  {
   "cell_type": "markdown",
   "metadata": {},
   "source": [
    "## Landsat 5"
   ]
  },
  {
   "cell_type": "code",
   "execution_count": 13,
   "metadata": {},
   "outputs": [],
   "source": [
    "l5 = satcol.Collection.Landsat5USGS()"
   ]
  },
  {
   "cell_type": "code",
   "execution_count": 14,
   "metadata": {},
   "outputs": [],
   "source": [
    "l5col = l5.colEE"
   ]
  },
  {
   "cell_type": "code",
   "execution_count": 26,
   "metadata": {},
   "outputs": [],
   "source": [
    "l5col = l5col.filterBounds(p).filterDate(*date_range)"
   ]
  },
  {
   "cell_type": "code",
   "execution_count": 27,
   "metadata": {},
   "outputs": [],
   "source": [
    "l5_score = score.map(l5col, col=l5)"
   ]
  },
  {
   "cell_type": "code",
   "execution_count": 28,
   "metadata": {},
   "outputs": [
    {
     "data": {
      "text/plain": [
       "{'LT05_231090_20101202': {'score-sat': 1.0},\n",
       " 'LT05_231090_20110103': {'score-sat': 1.0},\n",
       " 'LT05_231090_20110119': {'score-sat': 1.0},\n",
       " 'LT05_231090_20110204': {'score-sat': 1.0},\n",
       " 'LT05_231090_20110220': {'score-sat': 1.0},\n",
       " 'LT05_231090_20110308': {'score-sat': 1.0},\n",
       " 'LT05_232089_20101123': {'score-sat': 1.0},\n",
       " 'LT05_232089_20110110': {'score-sat': 1.0},\n",
       " 'LT05_232089_20110126': {'score-sat': 1.0},\n",
       " 'LT05_232089_20110211': {'score-sat': 1.0},\n",
       " 'LT05_232090_20101123': {'score-sat': 1.0},\n",
       " 'LT05_232090_20110110': {'score-sat': 1.0},\n",
       " 'LT05_232090_20110211': {'score-sat': 1.0}}"
      ]
     },
     "execution_count": 28,
     "metadata": {},
     "output_type": "execute_result"
    }
   ],
   "source": [
    "tools.imagecollection.get_values(l5_score.select('score-sat'), p, 30, side='client')"
   ]
  },
  {
   "cell_type": "markdown",
   "metadata": {},
   "source": [
    "## Landsat 7"
   ]
  },
  {
   "cell_type": "code",
   "execution_count": 29,
   "metadata": {},
   "outputs": [],
   "source": [
    "l7 = satcol.Collection.Landsat7USGS()"
   ]
  },
  {
   "cell_type": "code",
   "execution_count": 30,
   "metadata": {},
   "outputs": [],
   "source": [
    "l7col = l7.colEE"
   ]
  },
  {
   "cell_type": "code",
   "execution_count": 31,
   "metadata": {},
   "outputs": [],
   "source": [
    "l7col = l7col.filterBounds(p).filterDate(*date_range)"
   ]
  },
  {
   "cell_type": "code",
   "execution_count": 32,
   "metadata": {},
   "outputs": [],
   "source": [
    "l7_score = score.map(l7col, col=l7)"
   ]
  },
  {
   "cell_type": "code",
   "execution_count": 33,
   "metadata": {},
   "outputs": [
    {
     "data": {
      "text/plain": [
       "{'LE07_231090_20101124': {'score-sat': 0.8999999761581421},\n",
       " 'LE07_231090_20101226': {'score-sat': 0.8999999761581421},\n",
       " 'LE07_231090_20110111': {'score-sat': 0.8999999761581421},\n",
       " 'LE07_231090_20110127': {'score-sat': 0.8999999761581421},\n",
       " 'LE07_231090_20110228': {'score-sat': 0.8999999761581421},\n",
       " 'LE07_232089_20101115': {'score-sat': 0.8999999761581421},\n",
       " 'LE07_232089_20101201': {'score-sat': 0.8999999761581421},\n",
       " 'LE07_232089_20101217': {'score-sat': 0.8999999761581421},\n",
       " 'LE07_232089_20110102': {'score-sat': 0.8999999761581421},\n",
       " 'LE07_232089_20110118': {'score-sat': 0.8999999761581421},\n",
       " 'LE07_232089_20110219': {'score-sat': 0.8999999761581421},\n",
       " 'LE07_232089_20110307': {'score-sat': 0.8999999761581421},\n",
       " 'LE07_232090_20101115': {'score-sat': 0.8999999761581421},\n",
       " 'LE07_232090_20101201': {'score-sat': 0.8999999761581421},\n",
       " 'LE07_232090_20101217': {'score-sat': 0.8999999761581421},\n",
       " 'LE07_232090_20110102': {'score-sat': 0.8999999761581421},\n",
       " 'LE07_232090_20110118': {'score-sat': 0.8999999761581421},\n",
       " 'LE07_232090_20110203': {'score-sat': 0.8999999761581421},\n",
       " 'LE07_232090_20110219': {'score-sat': 0.8999999761581421},\n",
       " 'LE07_232090_20110307': {'score-sat': 0.8999999761581421}}"
      ]
     },
     "execution_count": 33,
     "metadata": {},
     "output_type": "execute_result"
    }
   ],
   "source": [
    "tools.imagecollection.get_values(l7_score.select('score-sat'), p, 30, side='client')"
   ]
  },
  {
   "cell_type": "code",
   "execution_count": null,
   "metadata": {},
   "outputs": [],
   "source": []
  }
 ],
 "metadata": {
  "kernelspec": {
   "display_name": "geepy3",
   "language": "python",
   "name": "geepy3"
  },
  "language_info": {
   "codemirror_mode": {
    "name": "ipython",
    "version": 3
   },
   "file_extension": ".py",
   "mimetype": "text/x-python",
   "name": "python",
   "nbconvert_exporter": "python",
   "pygments_lexer": "ipython3",
   "version": "3.5.2"
  }
 },
 "nbformat": 4,
 "nbformat_minor": 2
}
